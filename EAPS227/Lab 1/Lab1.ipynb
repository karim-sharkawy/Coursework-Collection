{
 "cells": [
  {
   "cell_type": "markdown",
   "metadata": {},
   "source": [
    "# Lab 1. Classroom air temperature analysis.\n",
    "Let's analyze some of the temperature data we collected in class on Wednesday. First, we need to lay out two testable hypotheses:\n",
    "## Hypothesis 1: Consistent measurement technique reduced the spread (standard deviation) of the temperature measurements.\n",
    "We'll test this by comparing the data collected <b>before</b> and <b>after</b> I gave you the instructions.\n",
    "## Hypothesis 2: The \"before\" and \"after\" temperature data are different enough to be considered two different data sets.\n",
    "We'll evaluate this hypothesis using a statistical test called a Student's T-Test.\n",
    "## Key assumption: The air temperature in the room was actually constant the entire class period. \n",
    "This might be a faulty assumption if, for example, the air conditioner kicked in at some point between the \"before\" and \"after\" data sets. I deliberately timed this exercise for midway through the class period in order to allow the room temperature to stabilize. The air temperature had to equilibrate after the introduction of body heat and computers turning on at the start of the class period.\n",
    "## The following lines loads some needed modules into your Python namespace.\n",
    "Let's not worry about exactly what they do just yet. To execute the lines, highlight the cell and hit Ctrl+Enter."
   ]
  },
  {
   "cell_type": "code",
   "execution_count": 1,
   "metadata": {
    "collapsed": true
   },
   "outputs": [],
   "source": [
    "%matplotlib inline\n",
    "import pandas as pd\n",
    "import matplotlib.pyplot as plt"
   ]
  },
  {
   "cell_type": "markdown",
   "metadata": {},
   "source": [
    "## First, load the data.\n",
    "I downloaded a copy of the spreadsheet we created on Wednesday as a Comma-Seperated Value (CSV) text file called \"SC231.csv\". I had to clean up a few blank lines and other typos, but it's more or less unchanged from how we entered it.\n",
    "\n",
    "Let's load the data into our Python notebook using a module called <a href = \"https://pandas.pydata.org/\">Pandas</a>, which is a powerful data analysis package. We nicknamed it \"pd\" in when we imported it in the block above. Note that I pass a couple of extra arguments to read_csv() to make Pandas interpret the times as times. \n"
   ]
  },
  {
   "cell_type": "code",
   "execution_count": 2,
   "metadata": {
    "collapsed": true
   },
   "outputs": [],
   "source": [
    "data = pd.read_csv(\"SC231.csv\", parse_dates=[0], infer_datetime_format=True)"
   ]
  },
  {
   "cell_type": "markdown",
   "metadata": {},
   "source": [
    "This line produces no output, just reads the CSV file into an object called \"data\". \n",
    "### To force Python to print the contents of \"data\", simply type:"
   ]
  },
  {
   "cell_type": "code",
   "execution_count": 3,
   "metadata": {},
   "outputs": [
    {
     "data": {
      "text/html": [
       "<div>\n",
       "<style scoped>\n",
       "    .dataframe tbody tr th:only-of-type {\n",
       "        vertical-align: middle;\n",
       "    }\n",
       "\n",
       "    .dataframe tbody tr th {\n",
       "        vertical-align: top;\n",
       "    }\n",
       "\n",
       "    .dataframe thead th {\n",
       "        text-align: right;\n",
       "    }\n",
       "</style>\n",
       "<table border=\"1\" class=\"dataframe\">\n",
       "  <thead>\n",
       "    <tr style=\"text-align: right;\">\n",
       "      <th></th>\n",
       "      <th>Time (automatic)</th>\n",
       "      <th>Temperature (deg C)</th>\n",
       "      <th>Thermometer number</th>\n",
       "      <th>Observer's initials</th>\n",
       "      <th>QC flag (0 = good; 1 = suspect)</th>\n",
       "      <th>QC initials</th>\n",
       "    </tr>\n",
       "  </thead>\n",
       "  <tbody>\n",
       "    <tr>\n",
       "      <th>0</th>\n",
       "      <td>2021-08-25 10:03:34</td>\n",
       "      <td>26.0</td>\n",
       "      <td>6.0</td>\n",
       "      <td>CB</td>\n",
       "      <td>0</td>\n",
       "      <td>ML</td>\n",
       "    </tr>\n",
       "    <tr>\n",
       "      <th>1</th>\n",
       "      <td>2021-08-25 10:04:56</td>\n",
       "      <td>25.9</td>\n",
       "      <td>1.0</td>\n",
       "      <td>BM</td>\n",
       "      <td>0</td>\n",
       "      <td>ML</td>\n",
       "    </tr>\n",
       "    <tr>\n",
       "      <th>2</th>\n",
       "      <td>2021-08-25 10:04:29</td>\n",
       "      <td>25.5</td>\n",
       "      <td>9.0</td>\n",
       "      <td>BA</td>\n",
       "      <td>0</td>\n",
       "      <td>ML</td>\n",
       "    </tr>\n",
       "    <tr>\n",
       "      <th>3</th>\n",
       "      <td>2021-08-25 10:04:21</td>\n",
       "      <td>25.5</td>\n",
       "      <td>5.0</td>\n",
       "      <td>DH</td>\n",
       "      <td>0</td>\n",
       "      <td>AL</td>\n",
       "    </tr>\n",
       "    <tr>\n",
       "      <th>4</th>\n",
       "      <td>2021-08-25 10:03:30</td>\n",
       "      <td>23.0</td>\n",
       "      <td>10.0</td>\n",
       "      <td>TP</td>\n",
       "      <td>1</td>\n",
       "      <td>ML</td>\n",
       "    </tr>\n",
       "    <tr>\n",
       "      <th>...</th>\n",
       "      <td>...</td>\n",
       "      <td>...</td>\n",
       "      <td>...</td>\n",
       "      <td>...</td>\n",
       "      <td>...</td>\n",
       "      <td>...</td>\n",
       "    </tr>\n",
       "    <tr>\n",
       "      <th>161</th>\n",
       "      <td>2021-08-25 10:18:03</td>\n",
       "      <td>24.1</td>\n",
       "      <td>10.0</td>\n",
       "      <td>NL</td>\n",
       "      <td>0</td>\n",
       "      <td>NaN</td>\n",
       "    </tr>\n",
       "    <tr>\n",
       "      <th>162</th>\n",
       "      <td>2021-08-25 10:17:49</td>\n",
       "      <td>24.5</td>\n",
       "      <td>7.0</td>\n",
       "      <td>DH</td>\n",
       "      <td>1</td>\n",
       "      <td>RT</td>\n",
       "    </tr>\n",
       "    <tr>\n",
       "      <th>163</th>\n",
       "      <td>2021-08-25 10:18:00</td>\n",
       "      <td>25.8</td>\n",
       "      <td>8.0</td>\n",
       "      <td>BM</td>\n",
       "      <td>0</td>\n",
       "      <td>NaN</td>\n",
       "    </tr>\n",
       "    <tr>\n",
       "      <th>164</th>\n",
       "      <td>2021-08-25 10:18:21</td>\n",
       "      <td>25.2</td>\n",
       "      <td>3.0</td>\n",
       "      <td>JH</td>\n",
       "      <td>0</td>\n",
       "      <td>NaN</td>\n",
       "    </tr>\n",
       "    <tr>\n",
       "      <th>165</th>\n",
       "      <td>2021-08-25 10:18:08</td>\n",
       "      <td>24.5</td>\n",
       "      <td>2.0</td>\n",
       "      <td>CN</td>\n",
       "      <td>0</td>\n",
       "      <td>NaN</td>\n",
       "    </tr>\n",
       "  </tbody>\n",
       "</table>\n",
       "<p>166 rows × 6 columns</p>\n",
       "</div>"
      ],
      "text/plain": [
       "       Time (automatic)  Temperature (deg C)  Thermometer number  \\\n",
       "0   2021-08-25 10:03:34                 26.0                 6.0   \n",
       "1   2021-08-25 10:04:56                 25.9                 1.0   \n",
       "2   2021-08-25 10:04:29                 25.5                 9.0   \n",
       "3   2021-08-25 10:04:21                 25.5                 5.0   \n",
       "4   2021-08-25 10:03:30                 23.0                10.0   \n",
       "..                  ...                  ...                 ...   \n",
       "161 2021-08-25 10:18:03                 24.1                10.0   \n",
       "162 2021-08-25 10:17:49                 24.5                 7.0   \n",
       "163 2021-08-25 10:18:00                 25.8                 8.0   \n",
       "164 2021-08-25 10:18:21                 25.2                 3.0   \n",
       "165 2021-08-25 10:18:08                 24.5                 2.0   \n",
       "\n",
       "    Observer's initials  QC flag (0 = good; 1 = suspect) QC initials  \n",
       "0                    CB                                0          ML  \n",
       "1                    BM                                0          ML  \n",
       "2                    BA                                0          ML  \n",
       "3                    DH                                0          AL  \n",
       "4                    TP                                1          ML  \n",
       "..                  ...                              ...         ...  \n",
       "161                  NL                                0         NaN  \n",
       "162                  DH                                1          RT  \n",
       "163                  BM                                0         NaN  \n",
       "164                  JH                                0         NaN  \n",
       "165                  CN                                0         NaN  \n",
       "\n",
       "[166 rows x 6 columns]"
      ]
     },
     "execution_count": 3,
     "metadata": {},
     "output_type": "execute_result"
    }
   ],
   "source": [
    "data"
   ]
  },
  {
   "cell_type": "markdown",
   "metadata": {},
   "source": [
    "### It looks a lot like the spreadsheet we entered on Wednesday. \n",
    "Under the hood, Python is treating this data set as something called a DataFrame object.  The \"...\" means there are some lines of the Dataframe not being printed, so it doesn't clutter up the entire screen. The data are all there!\n",
    "\n",
    "### Pandas has a lot of useful functionality right out of the box. \n",
    "For example, to create a simple graph of the temperature vs. time, type"
   ]
  },
  {
   "cell_type": "code",
   "execution_count": 4,
   "metadata": {},
   "outputs": [
    {
     "data": {
      "text/plain": [
       "<AxesSubplot:xlabel='Time (automatic)'>"
      ]
     },
     "execution_count": 4,
     "metadata": {},
     "output_type": "execute_result"
    },
    {
     "data": {
      "image/png": "[encoded data removed]",
      "text/plain": [
       "<Figure size 432x288 with 1 Axes>"
      ]
     },
     "metadata": {
      "needs_background": "light"
     },
     "output_type": "display_data"
    }
   ],
   "source": [
    "data.plot(\"Time (automatic)\", \"Temperature (deg C)\")"
   ]
  },
  {
   "cell_type": "markdown",
   "metadata": {},
   "source": [
    "Note that the column labels <b>must</b> be typed <b>exactly</b> as they are written in the Dataframe. Capitalization and punctuation have to be exactly the same, or Python will throw an error.\n",
    "\n",
    "Pandas is assuming the data are a time series and connecting them with lines. In fact, they are disparate points. Let's make a scatterplot instead."
   ]
  },
  {
   "cell_type": "code",
   "execution_count": 5,
   "metadata": {},
   "outputs": [
    {
     "data": {
      "text/plain": [
       "<AxesSubplot:xlabel='Time (automatic)', ylabel='Temperature (deg C)'>"
      ]
     },
     "execution_count": 5,
     "metadata": {},
     "output_type": "execute_result"
    },
    {
     "data": {
      "image/png": "[encoded data removed]",
      "text/plain": [
       "<Figure size 432x288 with 1 Axes>"
      ]
     },
     "metadata": {
      "needs_background": "light"
     },
     "output_type": "display_data"
    }
   ],
   "source": [
    "data.plot.scatter(\"Time (automatic)\", \"Temperature (deg C)\", grid = True)"
   ]
  },
  {
   "cell_type": "markdown",
   "metadata": {},
   "source": [
    "This looks more like the chart we made in Google Sheets. Our conclusions still hold: Before we received instructions at about 10:10 a.m., the spread of the data was much larger. Before we go on, let's have some fun with these data.\n",
    "\n",
    "### To print the contents of a single variable, type, e.g., "
   ]
  },
  {
   "cell_type": "code",
   "execution_count": 6,
   "metadata": {},
   "outputs": [
    {
     "data": {
      "text/plain": [
       "0      26.0\n",
       "1      25.9\n",
       "2      25.5\n",
       "3      25.5\n",
       "4      23.0\n",
       "       ... \n",
       "161    24.1\n",
       "162    24.5\n",
       "163    25.8\n",
       "164    25.2\n",
       "165    24.5\n",
       "Name: Temperature (deg C), Length: 166, dtype: float64"
      ]
     },
     "execution_count": 6,
     "metadata": {},
     "output_type": "execute_result"
    }
   ],
   "source": [
    "data[\"Temperature (deg C)\"]"
   ]
  },
  {
   "cell_type": "markdown",
   "metadata": {},
   "source": [
    "### To extract the temperature values as an array, add \".values\"."
   ]
  },
  {
   "cell_type": "code",
   "execution_count": 7,
   "metadata": {},
   "outputs": [
    {
     "data": {
      "text/plain": [
       "array([26. , 25.9, 25.5, 25.5, 23. , 27. , 27. , 25.9, 26.8, 26. , 29. ,\n",
       "       24.5, 24.5, 29.5, 23.9, 26.8, 24. , 25. , 29.5, 25.8, 25.7, 28. ,\n",
       "       29.5, 25.5, 27.2, 27.1, 26.8, 29. , 27.5, 26.5, 27.5, 25.1, 28.5,\n",
       "       26. , 25. , 26. , 26. , 25.9, 28. , 26. , 26. , 25.8, 27. , 29. ,\n",
       "       26.5, 26.9, 25.5, 29.5, 29.5, 26. , 28. , 27.6, 26.5, 26.5, 28.9,\n",
       "       30.4, 27. , 26.5, 28. , 27.8, 28. , 27.5, 26.3, 27. , 26.5, 29.2,\n",
       "       28. , 27.5, 26.5, 29. , 27. ,  nan, 28.1, 27. , 26.7, 27.6, 28.1,\n",
       "       29. , 26.8, 26.5, 27.3, 28. , 24.7, 24.5, 24. , 25.1, 24.3, 24. ,\n",
       "       25.5, 25. , 24. , 26. , 25. , 24. , 24.9, 24.8, 24.9, 24.8, 25. ,\n",
       "       25.9, 24.5, 24.1, 24.5, 26. , 24.9, 25. , 25.9, 24.9, 25. , 25.5,\n",
       "       25. , 25.9, 25.9, 25.5, 24.5, 23.8, 23.7, 25. , 25.2, 24. , 24.5,\n",
       "       24.9, 25. , 24.8, 24.9, 25. , 24.5, 24. , 24. , 25.5, 24.9, 24.8,\n",
       "       24.9, 25.1, 24.5, 24.5, 24.5, 24. , 24.5, 24.9, 24.5, 24.8, 24.2,\n",
       "       24.4, 24.5, 24.9, 24.8, 22.5, 25. , 24.7, 22.6, 25.1, 24.5, 24.5,\n",
       "       24.8, 24. , 24.6, 24.4, 25.2, 24.5, 24.5, 24.1, 24.5, 25.8, 25.2,\n",
       "       24.5])"
      ]
     },
     "execution_count": 7,
     "metadata": {},
     "output_type": "execute_result"
    }
   ],
   "source": [
    "data[\"Temperature (deg C)\"].values"
   ]
  },
  {
   "cell_type": "markdown",
   "metadata": {},
   "source": [
    "Note there is one \"NaN\" (not a number) where someone didn't enter a number. This shouldn't be a show-stopper; most downstream functions are NaN-robust."
   ]
  },
  {
   "cell_type": "markdown",
   "metadata": {},
   "source": [
    "### Let's make a histogram of the temperatures:"
   ]
  },
  {
   "cell_type": "code",
   "execution_count": 8,
   "metadata": {},
   "outputs": [
    {
     "data": {
      "text/plain": [
       "Text(0, 0.5, 'Frequency')"
      ]
     },
     "execution_count": 8,
     "metadata": {},
     "output_type": "execute_result"
    },
    {
     "data": {
      "image/png": "[encoded data removed]",
      "text/plain": [
       "<Figure size 432x288 with 1 Axes>"
      ]
     },
     "metadata": {
      "needs_background": "light"
     },
     "output_type": "display_data"
    }
   ],
   "source": [
    "data.hist(\"Temperature (deg C)\")\n",
    "plt.title(\"Temperature in SC 231\")\n",
    "plt.xlabel(\"Temperature (deg C)\")\n",
    "plt.ylabel(\"Frequency\")"
   ]
  },
  {
   "cell_type": "markdown",
   "metadata": {},
   "source": [
    "### We can also make a box-and-whisker plot."
   ]
  },
  {
   "cell_type": "code",
   "execution_count": 9,
   "metadata": {},
   "outputs": [
    {
     "data": {
      "text/plain": [
       "<AxesSubplot:>"
      ]
     },
     "execution_count": 9,
     "metadata": {},
     "output_type": "execute_result"
    },
    {
     "data": {
      "image/png": "[encoded data removed]",
      "text/plain": [
       "<Figure size 432x288 with 1 Axes>"
      ]
     },
     "metadata": {
      "needs_background": "light"
     },
     "output_type": "display_data"
    }
   ],
   "source": [
    "data.boxplot(\"Temperature (deg C)\")"
   ]
  },
  {
   "cell_type": "markdown",
   "metadata": {},
   "source": [
    "### We can break down the temperatures by thermometer number:"
   ]
  },
  {
   "cell_type": "code",
   "execution_count": 10,
   "metadata": {},
   "outputs": [
    {
     "data": {
      "text/plain": [
       "Text(0.5, 0.98, '')"
      ]
     },
     "execution_count": 10,
     "metadata": {},
     "output_type": "execute_result"
    },
    {
     "data": {
      "image/png": "[encoded data removed]",
      "text/plain": [
       "<Figure size 432x288 with 1 Axes>"
      ]
     },
     "metadata": {
      "needs_background": "light"
     },
     "output_type": "display_data"
    }
   ],
   "source": [
    "data.boxplot(\"Temperature (deg C)\", by = \"Thermometer number\")\n",
    "plt.suptitle('')"
   ]
  },
  {
   "cell_type": "markdown",
   "metadata": {},
   "source": [
    "### In theory, all 10 thermometers should be identical and give similar readings. You could, for example, use this type of plot to identify thermometers that have stopped working properly and that need to be replaced."
   ]
  },
  {
   "cell_type": "markdown",
   "metadata": {},
   "source": [
    "### We can also break down the temperatures by observer:"
   ]
  },
  {
   "cell_type": "code",
   "execution_count": 11,
   "metadata": {},
   "outputs": [
    {
     "data": {
      "text/plain": [
       "Text(0.5, 0.98, '')"
      ]
     },
     "execution_count": 11,
     "metadata": {},
     "output_type": "execute_result"
    },
    {
     "data": {
      "image/png": "[encoded data removed]",
      "text/plain": [
       "<Figure size 432x288 with 1 Axes>"
      ]
     },
     "metadata": {
      "needs_background": "light"
     },
     "output_type": "display_data"
    }
   ],
   "source": [
    "data.boxplot(\"Temperature (deg C)\", by = \"Observer's initials\")\n",
    "plt.suptitle('')"
   ]
  },
  {
   "cell_type": "markdown",
   "metadata": {},
   "source": [
    "### From here, we can see which observers had the hottest data, the coldest data, the largest spread, and the smallest spread."
   ]
  },
  {
   "cell_type": "markdown",
   "metadata": {},
   "source": [
    "# Let's get back to our hypotheses:\n",
    "## Hypothesis 1: Consistent measurement technique reduced the spread (standard deviation) of the temperature measurements.\n",
    "Recall that I gave you instructions at about 10:10 a.m. This makes a convenient break point in the data. Let's label the data depending on whether they were collected before or after I gave you the instructions.\n",
    "\n",
    "### Define a variable called instruction_time:"
   ]
  },
  {
   "cell_type": "code",
   "execution_count": 12,
   "metadata": {
    "collapsed": true
   },
   "outputs": [],
   "source": [
    "instruction_time = pd.to_datetime('2021-08-25T10:10:00')"
   ]
  },
  {
   "cell_type": "markdown",
   "metadata": {},
   "source": [
    "Don't worry about the odd appearance of this code. I'm forcing the time to be in the same format as it is in the DataFrame.\n",
    "\n",
    "### Now, label data \"Before\" and \"After\" depending on whether they were collected before or after this time. "
   ]
  },
  {
   "cell_type": "code",
   "execution_count": 13,
   "metadata": {},
   "outputs": [
    {
     "data": {
      "text/html": [
       "<div>\n",
       "<style scoped>\n",
       "    .dataframe tbody tr th:only-of-type {\n",
       "        vertical-align: middle;\n",
       "    }\n",
       "\n",
       "    .dataframe tbody tr th {\n",
       "        vertical-align: top;\n",
       "    }\n",
       "\n",
       "    .dataframe thead th {\n",
       "        text-align: right;\n",
       "    }\n",
       "</style>\n",
       "<table border=\"1\" class=\"dataframe\">\n",
       "  <thead>\n",
       "    <tr style=\"text-align: right;\">\n",
       "      <th></th>\n",
       "      <th>Time (automatic)</th>\n",
       "      <th>Temperature (deg C)</th>\n",
       "      <th>Thermometer number</th>\n",
       "      <th>Observer's initials</th>\n",
       "      <th>QC flag (0 = good; 1 = suspect)</th>\n",
       "      <th>QC initials</th>\n",
       "      <th>Instructions</th>\n",
       "    </tr>\n",
       "  </thead>\n",
       "  <tbody>\n",
       "    <tr>\n",
       "      <th>0</th>\n",
       "      <td>2021-08-25 10:03:34</td>\n",
       "      <td>26.0</td>\n",
       "      <td>6.0</td>\n",
       "      <td>CB</td>\n",
       "      <td>0</td>\n",
       "      <td>ML</td>\n",
       "      <td>Before</td>\n",
       "    </tr>\n",
       "    <tr>\n",
       "      <th>1</th>\n",
       "      <td>2021-08-25 10:04:56</td>\n",
       "      <td>25.9</td>\n",
       "      <td>1.0</td>\n",
       "      <td>BM</td>\n",
       "      <td>0</td>\n",
       "      <td>ML</td>\n",
       "      <td>Before</td>\n",
       "    </tr>\n",
       "    <tr>\n",
       "      <th>2</th>\n",
       "      <td>2021-08-25 10:04:29</td>\n",
       "      <td>25.5</td>\n",
       "      <td>9.0</td>\n",
       "      <td>BA</td>\n",
       "      <td>0</td>\n",
       "      <td>ML</td>\n",
       "      <td>Before</td>\n",
       "    </tr>\n",
       "    <tr>\n",
       "      <th>3</th>\n",
       "      <td>2021-08-25 10:04:21</td>\n",
       "      <td>25.5</td>\n",
       "      <td>5.0</td>\n",
       "      <td>DH</td>\n",
       "      <td>0</td>\n",
       "      <td>AL</td>\n",
       "      <td>Before</td>\n",
       "    </tr>\n",
       "    <tr>\n",
       "      <th>4</th>\n",
       "      <td>2021-08-25 10:03:30</td>\n",
       "      <td>23.0</td>\n",
       "      <td>10.0</td>\n",
       "      <td>TP</td>\n",
       "      <td>1</td>\n",
       "      <td>ML</td>\n",
       "      <td>Before</td>\n",
       "    </tr>\n",
       "    <tr>\n",
       "      <th>...</th>\n",
       "      <td>...</td>\n",
       "      <td>...</td>\n",
       "      <td>...</td>\n",
       "      <td>...</td>\n",
       "      <td>...</td>\n",
       "      <td>...</td>\n",
       "      <td>...</td>\n",
       "    </tr>\n",
       "    <tr>\n",
       "      <th>161</th>\n",
       "      <td>2021-08-25 10:18:03</td>\n",
       "      <td>24.1</td>\n",
       "      <td>10.0</td>\n",
       "      <td>NL</td>\n",
       "      <td>0</td>\n",
       "      <td>NaN</td>\n",
       "      <td>After</td>\n",
       "    </tr>\n",
       "    <tr>\n",
       "      <th>162</th>\n",
       "      <td>2021-08-25 10:17:49</td>\n",
       "      <td>24.5</td>\n",
       "      <td>7.0</td>\n",
       "      <td>DH</td>\n",
       "      <td>1</td>\n",
       "      <td>RT</td>\n",
       "      <td>After</td>\n",
       "    </tr>\n",
       "    <tr>\n",
       "      <th>163</th>\n",
       "      <td>2021-08-25 10:18:00</td>\n",
       "      <td>25.8</td>\n",
       "      <td>8.0</td>\n",
       "      <td>BM</td>\n",
       "      <td>0</td>\n",
       "      <td>NaN</td>\n",
       "      <td>After</td>\n",
       "    </tr>\n",
       "    <tr>\n",
       "      <th>164</th>\n",
       "      <td>2021-08-25 10:18:21</td>\n",
       "      <td>25.2</td>\n",
       "      <td>3.0</td>\n",
       "      <td>JH</td>\n",
       "      <td>0</td>\n",
       "      <td>NaN</td>\n",
       "      <td>After</td>\n",
       "    </tr>\n",
       "    <tr>\n",
       "      <th>165</th>\n",
       "      <td>2021-08-25 10:18:08</td>\n",
       "      <td>24.5</td>\n",
       "      <td>2.0</td>\n",
       "      <td>CN</td>\n",
       "      <td>0</td>\n",
       "      <td>NaN</td>\n",
       "      <td>After</td>\n",
       "    </tr>\n",
       "  </tbody>\n",
       "</table>\n",
       "<p>166 rows × 7 columns</p>\n",
       "</div>"
      ],
      "text/plain": [
       "       Time (automatic)  Temperature (deg C)  Thermometer number  \\\n",
       "0   2021-08-25 10:03:34                 26.0                 6.0   \n",
       "1   2021-08-25 10:04:56                 25.9                 1.0   \n",
       "2   2021-08-25 10:04:29                 25.5                 9.0   \n",
       "3   2021-08-25 10:04:21                 25.5                 5.0   \n",
       "4   2021-08-25 10:03:30                 23.0                10.0   \n",
       "..                  ...                  ...                 ...   \n",
       "161 2021-08-25 10:18:03                 24.1                10.0   \n",
       "162 2021-08-25 10:17:49                 24.5                 7.0   \n",
       "163 2021-08-25 10:18:00                 25.8                 8.0   \n",
       "164 2021-08-25 10:18:21                 25.2                 3.0   \n",
       "165 2021-08-25 10:18:08                 24.5                 2.0   \n",
       "\n",
       "    Observer's initials  QC flag (0 = good; 1 = suspect) QC initials  \\\n",
       "0                    CB                                0          ML   \n",
       "1                    BM                                0          ML   \n",
       "2                    BA                                0          ML   \n",
       "3                    DH                                0          AL   \n",
       "4                    TP                                1          ML   \n",
       "..                  ...                              ...         ...   \n",
       "161                  NL                                0         NaN   \n",
       "162                  DH                                1          RT   \n",
       "163                  BM                                0         NaN   \n",
       "164                  JH                                0         NaN   \n",
       "165                  CN                                0         NaN   \n",
       "\n",
       "    Instructions  \n",
       "0         Before  \n",
       "1         Before  \n",
       "2         Before  \n",
       "3         Before  \n",
       "4         Before  \n",
       "..           ...  \n",
       "161        After  \n",
       "162        After  \n",
       "163        After  \n",
       "164        After  \n",
       "165        After  \n",
       "\n",
       "[166 rows x 7 columns]"
      ]
     },
     "execution_count": 13,
     "metadata": {},
     "output_type": "execute_result"
    }
   ],
   "source": [
    "data[\"Instructions\"] = \"Before\"\n",
    "data.loc[data['Time (automatic)'] > instruction_time, \"Instructions\"] = \"After\"\n",
    "data"
   ]
  },
  {
   "cell_type": "markdown",
   "metadata": {},
   "source": [
    "A new column has been appended to the DataFrame called \"data\", containing labels \"Before\" and \"After\".\n",
    "\n",
    "### Are the sizes of the two data sets comparable?\n",
    "Use the \"groupby\" function of the Dataframe to separate out the \"Before\" and \"After\" data."
   ]
  },
  {
   "cell_type": "code",
   "execution_count": 1,
   "metadata": {},
   "outputs": [
    {
     "ename": "NameError",
     "evalue": "name 'data' is not defined",
     "output_type": "error",
     "traceback": [
      "\u001b[0;31m---------------------------------------------------------------------------\u001b[0m",
      "\u001b[0;31mNameError\u001b[0m                                 Traceback (most recent call last)",
      "\u001b[0;32m<ipython-input-1-1afecc861a41>\u001b[0m in \u001b[0;36m<module>\u001b[0;34m\u001b[0m\n\u001b[0;32m----> 1\u001b[0;31m \u001b[0mdata\u001b[0m\u001b[0;34m.\u001b[0m\u001b[0mgroupby\u001b[0m\u001b[0;34m(\u001b[0m\u001b[0;34m\"Instructions\"\u001b[0m\u001b[0;34m)\u001b[0m\u001b[0;34m[\u001b[0m\u001b[0;34m\"Temperature (deg C)\"\u001b[0m\u001b[0;34m]\u001b[0m\u001b[0;34m.\u001b[0m\u001b[0mcount\u001b[0m\u001b[0;34m(\u001b[0m\u001b[0;34m)\u001b[0m\u001b[0;34m\u001b[0m\u001b[0;34m\u001b[0m\u001b[0m\n\u001b[0m",
      "\u001b[0;31mNameError\u001b[0m: name 'data' is not defined"
     ]
    }
   ],
   "source": [
    "data.groupby(\"Instructions\")[\"Temperature (deg C)\"].count()"
   ]
  },
  {
   "cell_type": "markdown",
   "metadata": {},
   "source": [
    "The answer is yes, they are almost exactly the same size.\n",
    "\n",
    "### Now, let's check their standard deviations to test the hypothesis:"
   ]
  },
  {
   "cell_type": "code",
   "execution_count": 15,
   "metadata": {},
   "outputs": [
    {
     "data": {
      "text/plain": [
       "Instructions\n",
       "After     0.630575\n",
       "Before    1.466358\n",
       "Name: Temperature (deg C), dtype: float64"
      ]
     },
     "execution_count": 15,
     "metadata": {},
     "output_type": "execute_result"
    }
   ],
   "source": [
    "data.groupby(\"Instructions\")[\"Temperature (deg C)\"].std()"
   ]
  },
  {
   "cell_type": "markdown",
   "metadata": {},
   "source": [
    "### The hypothesis is confirmed: Data spread decreased by more than a factor of two as a result of consistent measurement technique. \n",
    "\n",
    "## Take-home point 1: Using consistent measurement technique reduces the chances of systematic error adversely affecting your measurements.\n",
    "We have 80+ measurements of the same variable. In the field, you may find yourself in situations where one or two measurements are all you get for a given variable and time. Make sure they aren't afflicted by poor measurement technique!"
   ]
  },
  {
   "cell_type": "markdown",
   "metadata": {},
   "source": [
    "## Hypothesis 2: The \"before\" and \"after\" temperature data are different enough to be considered two different data sets.\n",
    "We can evaluate this graphically by making box-and-whisker plots of the two data sets."
   ]
  },
  {
   "cell_type": "code",
   "execution_count": 16,
   "metadata": {},
   "outputs": [
    {
     "data": {
      "text/plain": [
       "Text(0, 0.5, 'Temperature (deg C)')"
      ]
     },
     "execution_count": 16,
     "metadata": {},
     "output_type": "execute_result"
    },
    {
     "data": {
      "image/png": "[encoded data removed]",
      "text/plain": [
       "<Figure size 432x288 with 1 Axes>"
      ]
     },
     "metadata": {
      "needs_background": "light"
     },
     "output_type": "display_data"
    }
   ],
   "source": [
    "data.boxplot(\"Temperature (deg C)\", by = \"Instructions\")\n",
    "plt.title('')\n",
    "plt.ylabel(\"Temperature (deg C)\")"
   ]
  },
  {
   "cell_type": "markdown",
   "metadata": {},
   "source": [
    "### It can be seen that the means of the Before and After data (green lines) differ by more than 2.0 deg C.\n",
    "\n",
    "### As an initial test, we can check whether the interquartile ranges overlap. \n",
    "In this case, they certainly do not. This is a good indication that the two data sets (Before and After) were drawn from two different populations.\n",
    "\n",
    "## However, we want to evaluate this hypothesis statistically to quantify how certain we are that the two data sets are different. We define a <i>null hypothesis</i> to go along with our hypothesis:\n",
    "$$H_0: \\mu_{After} = \\mu_{before}$$\n",
    "### In words, Null hypothesis: The means of the \"Before\" and \"After\" data are equal. \n",
    "$$H_a: \\mu_{After} \\ne \\mu_{before}$$\n",
    "### In words, Alternative hypothesis: The means of the \"Before\" and \"After\" data are different. \n",
    "This situation satisfies all the conditions for a two-sided Student's T-test, including:\n",
    "1. The two data sets are independent of one another (i.e., not paired).\n",
    "2. The variances of the two data sets can be expected to be equal, because we used the same thermometers to take the measurements. \n",
    "\n",
    "### Fortunately, Python has a Student's T-test built into the Scipy package. Let's import it:"
   ]
  },
  {
   "cell_type": "code",
   "execution_count": 17,
   "metadata": {
    "collapsed": true
   },
   "outputs": [],
   "source": [
    "from scipy.stats import ttest_ind"
   ]
  },
  {
   "cell_type": "markdown",
   "metadata": {},
   "source": [
    "We use a different type of import statement when we just want to import one function rather than an entire module."
   ]
  },
  {
   "cell_type": "code",
   "execution_count": 2,
   "metadata": {},
   "outputs": [
    {
     "ename": "NameError",
     "evalue": "name 'data' is not defined",
     "output_type": "error",
     "traceback": [
      "\u001b[0;31m---------------------------------------------------------------------------\u001b[0m",
      "\u001b[0;31mNameError\u001b[0m                                 Traceback (most recent call last)",
      "\u001b[0;32m<ipython-input-2-743f4f48d904>\u001b[0m in \u001b[0;36m<module>\u001b[0;34m\u001b[0m\n\u001b[0;32m----> 1\u001b[0;31m \u001b[0mT_before\u001b[0m \u001b[0;34m=\u001b[0m \u001b[0mdata\u001b[0m\u001b[0;34m.\u001b[0m\u001b[0mloc\u001b[0m\u001b[0;34m[\u001b[0m\u001b[0mdata\u001b[0m\u001b[0;34m[\u001b[0m\u001b[0;34m\"Instructions\"\u001b[0m\u001b[0;34m]\u001b[0m \u001b[0;34m==\u001b[0m \u001b[0;34m\"Before\"\u001b[0m\u001b[0;34m]\u001b[0m\u001b[0;34m[\u001b[0m\u001b[0;34m\"Temperature (deg C)\"\u001b[0m\u001b[0;34m]\u001b[0m\u001b[0;34m.\u001b[0m\u001b[0mvalues\u001b[0m\u001b[0;34m\u001b[0m\u001b[0;34m\u001b[0m\u001b[0m\n\u001b[0m\u001b[1;32m      2\u001b[0m \u001b[0mT_after\u001b[0m \u001b[0;34m=\u001b[0m \u001b[0mdata\u001b[0m\u001b[0;34m.\u001b[0m\u001b[0mloc\u001b[0m\u001b[0;34m[\u001b[0m\u001b[0mdata\u001b[0m\u001b[0;34m[\u001b[0m\u001b[0;34m\"Instructions\"\u001b[0m\u001b[0;34m]\u001b[0m \u001b[0;34m==\u001b[0m \u001b[0;34m\"After\"\u001b[0m\u001b[0;34m]\u001b[0m\u001b[0;34m[\u001b[0m\u001b[0;34m\"Temperature (deg C)\"\u001b[0m\u001b[0;34m]\u001b[0m\u001b[0;34m.\u001b[0m\u001b[0mvalues\u001b[0m\u001b[0;34m\u001b[0m\u001b[0;34m\u001b[0m\u001b[0m\n\u001b[1;32m      3\u001b[0m \u001b[0mttest_ind\u001b[0m\u001b[0;34m(\u001b[0m\u001b[0mT_before\u001b[0m\u001b[0;34m,\u001b[0m \u001b[0mT_after\u001b[0m\u001b[0;34m,\u001b[0m \u001b[0mnan_policy\u001b[0m \u001b[0;34m=\u001b[0m \u001b[0;34m'omit'\u001b[0m\u001b[0;34m)\u001b[0m\u001b[0;34m\u001b[0m\u001b[0;34m\u001b[0m\u001b[0m\n",
      "\u001b[0;31mNameError\u001b[0m: name 'data' is not defined"
     ]
    }
   ],
   "source": [
    "T_before = data.loc[data[\"Instructions\"] == \"Before\"][\"Temperature (deg C)\"].values\n",
    "T_after = data.loc[data[\"Instructions\"] == \"After\"][\"Temperature (deg C)\"].values\n",
    "ttest_ind(T_before, T_after, nan_policy = 'omit')"
   ]
  },
  {
   "cell_type": "markdown",
   "metadata": {},
   "source": [
    "### What does this result mean?\n",
    "The first number is the t-statistic; the second value is the p-value. \n",
    "### We're more interested in the P-value.\n",
    "Typically, for a two-sided T-test:\n",
    "If P > 0.05 (5%), we do not reject the null hypothesis.\n",
    "If P < 0.05, we reject the null hypothesis and consider the alternative hypothesis to be more likely.\n",
    "\n",
    "### In this case, you should find that the P-value is tiny. $$P \\sim10^{-26}$$ \n",
    "This means that the odds of these data having been drawn from the same population <i>by chance</i> is exceedingly small.\n",
    "### We therefore reject the null hypothesis that the two temperature sets have the same mean; i.e., the two data sets are different. It is more likely that the alternative hypothesis, i.e., that the two data sets are different, is true.\n",
    "\n",
    "## Take home point 2: If we had kept the \"Before\" data, we would have come to an incorrect conclusion about the temperature of the room. \n",
    "Again, this reinforces the idea that proper and consistent measurement technique is critically important if we are to accurately assess the condition of the atmosphere!"
   ]
  },
  {
   "cell_type": "markdown",
   "metadata": {},
   "source": [
    "# Extra Credit question (5 pts): What if we had excluded all of the data where the QC flag was set to 1 (suspect)? Would our conclusion be any different?"
   ]
  },
  {
   "cell_type": "code",
   "execution_count": null,
   "metadata": {
    "collapsed": true
   },
   "outputs": [],
   "source": []
  }
 ],
 "metadata": {
  "kernelspec": {
   "display_name": "Python (My eaps227-2021 Kernel)",
   "language": "python",
   "name": "eaps227-2021"
  },
  "language_info": {
   "codemirror_mode": {
    "name": "ipython",
    "version": 3
   },
   "file_extension": ".py",
   "mimetype": "text/x-python",
   "name": "python",
   "nbconvert_exporter": "python",
   "pygments_lexer": "ipython3",
   "version": "3.7.6"
  }
 },
 "nbformat": 4,
 "nbformat_minor": 2
}
