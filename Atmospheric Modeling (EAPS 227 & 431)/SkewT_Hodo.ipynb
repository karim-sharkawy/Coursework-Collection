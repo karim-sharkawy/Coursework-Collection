{
 "cells": [
  {
   "cell_type": "markdown",
   "metadata": {},
   "source": [
    "# Introduction to plotting skew-T, log p diagrams and hodographs in MetPy.\n",
    "Now that you've gone to the trouble of plotting a skew-T by hand, let's make MetPy do the dirty work.\n",
    "\n",
    "We previously used a package called <a href = \"https://sharp.weather.ou.edu/dev/\">SHARPPy</a>, which produces a single graphic containing both a skew-T, log p diagram and hodograph, with lots of convective indices attached. This graphic is intended for quick, at-a-glance assessment of the storm potential associated with an environmental sounding. This graphic is very busy, and would not be appropriate for use in a journal article. For finer control of the plots, we can use MetPy instead. \n",
    "\n",
    "It is assumed that the file <b>2021-10-11_1239.sharppy_mod.txt</b> (which is on Brightspace) lives in the same directory as this notebook."
   ]
  },
  {
   "cell_type": "code",
   "execution_count": 4,
   "metadata": {
    "collapsed": true
   },
   "outputs": [],
   "source": [
    "import matplotlib.pyplot as plt\n",
    "from mpl_toolkits.axes_grid1.inset_locator import inset_axes\n",
    "import pandas as pd\n",
    "# Huzzah! MetPy already has pre-defined Hodograph and Skew-T classes!\n",
    "from metpy.plots import add_metpy_logo, Hodograph, SkewT\n",
    "from metpy.units import units\n",
    "import metpy.calc as mpcalc"
   ]
  },
  {
   "cell_type": "markdown",
   "metadata": {},
   "source": [
    "## Recall that our raw sounding data (in abbreviated form) looks like this (with prepended line numbers):\n",
    "\n",
    "0: `%TITLE%`<br>\n",
    "1: ` XXX   211011/1744`<br>\n",
    "2: ` Saved by user: User on 20211011/1837 UTC`<br>\n",
    "3: `   LEVEL       HGHT       TEMP       DWPT       WDIR       WSPD`<br>\n",
    "4: `-------------------------------------------------------------------`<br>\n",
    "5: `%RAW%`<br>\n",
    "6: `  986.60,    200.00,     25.00,     19.00,    125.00,      2.60`<br>\n",
    "7:`  983.94,    209.00,     25.76,     17.90,    125.00,      2.60`<br>\n",
    "8: `  981.72,    229.00,     25.37,     17.67,    166.64,     14.81`<br>\n",
    "  ...<br>\n",
    "-4: `  193.11,  12609.00,    -46.23,    -58.58,    217.21,     35.66`<br>\n",
    "-3: `  192.54,  12629.00,    -46.23,    -58.64,    214.16,     37.03`<br>\n",
    "-2: `  191.96,  12649.00,    -46.23,    -58.69,    212.05,     37.78`<br>\n",
    "-1: `%END%`<br>\n",
    "\n",
    "Unlike some other programming languages, Python **indexing starts at 0**. Additionally, an index of **-1** means, **\"the last index\"**. This is useful if, as sounding files often are, the length of the file varies from data set to data set (i.e., is unpredictable).\n",
    "\n",
    "Looking at our sounding file, we find that lines 0, 1, 2, 4, 5, and -1 are formatted for human readability, rather than for formatted reading by a computer. Additionally, line 3 (LEVEL HGHT etc) contains the column headings. Pandas expects each line to have the same number of data entries (in this case, six). We can make the data import cleanly by passing a couple of extra arguments to pandas.read_csv():\n",
    "1. `names = [A list of names]`: Python use the column labels specified in the list.\n",
    "2. `skiprows = [A list of integers]`: Python will ignore the indicated rows when reading in the file.\n",
    "3. `skipfooter = 1, engine = 'python'`: Skip the last line of the file (the one containing `%END%`, which we don't need). The 'engine' argument suppresses an annoying warning message.\n",
    "\n",
    "## The code below reads in the sounding file and returns a pandas DataFrame object containing its contents."
   ]
  },
  {
   "cell_type": "code",
   "execution_count": 5,
   "metadata": {},
   "outputs": [
    {
     "ename": "FileNotFoundError",
     "evalue": "[Errno 2] No such file or directory: '2021-10-11_1239.sharppy_mod.txt'",
     "output_type": "error",
     "traceback": [
      "\u001b[0;31m---------------------------------------------------------------------------\u001b[0m",
      "\u001b[0;31mFileNotFoundError\u001b[0m                         Traceback (most recent call last)",
      "\u001b[0;32m<ipython-input-5-9ef03733c7a9>\u001b[0m in \u001b[0;36m<module>\u001b[0;34m\u001b[0m\n\u001b[1;32m      1\u001b[0m sounding = pd.read_csv('2021-10-11_1239.sharppy_mod.txt', skiprows = [0, 1, 2, 3, 4, 5], \n\u001b[1;32m      2\u001b[0m                        \u001b[0mnames\u001b[0m \u001b[0;34m=\u001b[0m \u001b[0;34m[\u001b[0m\u001b[0;34m\"Pressure\"\u001b[0m\u001b[0;34m,\u001b[0m \u001b[0;34m\"Height\"\u001b[0m\u001b[0;34m,\u001b[0m \u001b[0;34m\"Temperature\"\u001b[0m\u001b[0;34m,\u001b[0m \u001b[0;34m\"Dewpoint\"\u001b[0m\u001b[0;34m,\u001b[0m \u001b[0;34m\"Wind Direction\"\u001b[0m\u001b[0;34m,\u001b[0m \u001b[0;34m\"Wind Speed\"\u001b[0m\u001b[0;34m]\u001b[0m\u001b[0;34m,\u001b[0m\u001b[0;34m\u001b[0m\u001b[0;34m\u001b[0m\u001b[0m\n\u001b[0;32m----> 3\u001b[0;31m                       skipfooter = 1, engine = 'python')\n\u001b[0m\u001b[1;32m      4\u001b[0m \u001b[0msounding\u001b[0m  \u001b[0;31m# Print out the contents of the variable 'sounding' to the screen\u001b[0m\u001b[0;34m\u001b[0m\u001b[0;34m\u001b[0m\u001b[0m\n",
      "\u001b[0;32m/depot/eapsdept/apps/eaps227-2021/lib/python3.7/site-packages/pandas/util/_decorators.py\u001b[0m in \u001b[0;36mwrapper\u001b[0;34m(*args, **kwargs)\u001b[0m\n\u001b[1;32m    309\u001b[0m                     \u001b[0mstacklevel\u001b[0m\u001b[0;34m=\u001b[0m\u001b[0mstacklevel\u001b[0m\u001b[0;34m,\u001b[0m\u001b[0;34m\u001b[0m\u001b[0;34m\u001b[0m\u001b[0m\n\u001b[1;32m    310\u001b[0m                 )\n\u001b[0;32m--> 311\u001b[0;31m             \u001b[0;32mreturn\u001b[0m \u001b[0mfunc\u001b[0m\u001b[0;34m(\u001b[0m\u001b[0;34m*\u001b[0m\u001b[0margs\u001b[0m\u001b[0;34m,\u001b[0m \u001b[0;34m**\u001b[0m\u001b[0mkwargs\u001b[0m\u001b[0;34m)\u001b[0m\u001b[0;34m\u001b[0m\u001b[0;34m\u001b[0m\u001b[0m\n\u001b[0m\u001b[1;32m    312\u001b[0m \u001b[0;34m\u001b[0m\u001b[0m\n\u001b[1;32m    313\u001b[0m         \u001b[0;32mreturn\u001b[0m \u001b[0mwrapper\u001b[0m\u001b[0;34m\u001b[0m\u001b[0;34m\u001b[0m\u001b[0m\n",
      "\u001b[0;32m/depot/eapsdept/apps/eaps227-2021/lib/python3.7/site-packages/pandas/io/parsers/readers.py\u001b[0m in \u001b[0;36mread_csv\u001b[0;34m(filepath_or_buffer, sep, delimiter, header, names, index_col, usecols, squeeze, prefix, mangle_dupe_cols, dtype, engine, converters, true_values, false_values, skipinitialspace, skiprows, skipfooter, nrows, na_values, keep_default_na, na_filter, verbose, skip_blank_lines, parse_dates, infer_datetime_format, keep_date_col, date_parser, dayfirst, cache_dates, iterator, chunksize, compression, thousands, decimal, lineterminator, quotechar, quoting, doublequote, escapechar, comment, encoding, encoding_errors, dialect, error_bad_lines, warn_bad_lines, on_bad_lines, delim_whitespace, low_memory, memory_map, float_precision, storage_options)\u001b[0m\n\u001b[1;32m    584\u001b[0m     \u001b[0mkwds\u001b[0m\u001b[0;34m.\u001b[0m\u001b[0mupdate\u001b[0m\u001b[0;34m(\u001b[0m\u001b[0mkwds_defaults\u001b[0m\u001b[0;34m)\u001b[0m\u001b[0;34m\u001b[0m\u001b[0;34m\u001b[0m\u001b[0m\n\u001b[1;32m    585\u001b[0m \u001b[0;34m\u001b[0m\u001b[0m\n\u001b[0;32m--> 586\u001b[0;31m     \u001b[0;32mreturn\u001b[0m \u001b[0m_read\u001b[0m\u001b[0;34m(\u001b[0m\u001b[0mfilepath_or_buffer\u001b[0m\u001b[0;34m,\u001b[0m \u001b[0mkwds\u001b[0m\u001b[0;34m)\u001b[0m\u001b[0;34m\u001b[0m\u001b[0;34m\u001b[0m\u001b[0m\n\u001b[0m\u001b[1;32m    587\u001b[0m \u001b[0;34m\u001b[0m\u001b[0m\n\u001b[1;32m    588\u001b[0m \u001b[0;34m\u001b[0m\u001b[0m\n",
      "\u001b[0;32m/depot/eapsdept/apps/eaps227-2021/lib/python3.7/site-packages/pandas/io/parsers/readers.py\u001b[0m in \u001b[0;36m_read\u001b[0;34m(filepath_or_buffer, kwds)\u001b[0m\n\u001b[1;32m    480\u001b[0m \u001b[0;34m\u001b[0m\u001b[0m\n\u001b[1;32m    481\u001b[0m     \u001b[0;31m# Create the parser.\u001b[0m\u001b[0;34m\u001b[0m\u001b[0;34m\u001b[0m\u001b[0;34m\u001b[0m\u001b[0m\n\u001b[0;32m--> 482\u001b[0;31m     \u001b[0mparser\u001b[0m \u001b[0;34m=\u001b[0m \u001b[0mTextFileReader\u001b[0m\u001b[0;34m(\u001b[0m\u001b[0mfilepath_or_buffer\u001b[0m\u001b[0;34m,\u001b[0m \u001b[0;34m**\u001b[0m\u001b[0mkwds\u001b[0m\u001b[0;34m)\u001b[0m\u001b[0;34m\u001b[0m\u001b[0;34m\u001b[0m\u001b[0m\n\u001b[0m\u001b[1;32m    483\u001b[0m \u001b[0;34m\u001b[0m\u001b[0m\n\u001b[1;32m    484\u001b[0m     \u001b[0;32mif\u001b[0m \u001b[0mchunksize\u001b[0m \u001b[0;32mor\u001b[0m \u001b[0miterator\u001b[0m\u001b[0;34m:\u001b[0m\u001b[0;34m\u001b[0m\u001b[0;34m\u001b[0m\u001b[0m\n",
      "\u001b[0;32m/depot/eapsdept/apps/eaps227-2021/lib/python3.7/site-packages/pandas/io/parsers/readers.py\u001b[0m in \u001b[0;36m__init__\u001b[0;34m(self, f, engine, **kwds)\u001b[0m\n\u001b[1;32m    809\u001b[0m             \u001b[0mself\u001b[0m\u001b[0;34m.\u001b[0m\u001b[0moptions\u001b[0m\u001b[0;34m[\u001b[0m\u001b[0;34m\"has_index_names\"\u001b[0m\u001b[0;34m]\u001b[0m \u001b[0;34m=\u001b[0m \u001b[0mkwds\u001b[0m\u001b[0;34m[\u001b[0m\u001b[0;34m\"has_index_names\"\u001b[0m\u001b[0;34m]\u001b[0m\u001b[0;34m\u001b[0m\u001b[0;34m\u001b[0m\u001b[0m\n\u001b[1;32m    810\u001b[0m \u001b[0;34m\u001b[0m\u001b[0m\n\u001b[0;32m--> 811\u001b[0;31m         \u001b[0mself\u001b[0m\u001b[0;34m.\u001b[0m\u001b[0m_engine\u001b[0m \u001b[0;34m=\u001b[0m \u001b[0mself\u001b[0m\u001b[0;34m.\u001b[0m\u001b[0m_make_engine\u001b[0m\u001b[0;34m(\u001b[0m\u001b[0mself\u001b[0m\u001b[0;34m.\u001b[0m\u001b[0mengine\u001b[0m\u001b[0;34m)\u001b[0m\u001b[0;34m\u001b[0m\u001b[0;34m\u001b[0m\u001b[0m\n\u001b[0m\u001b[1;32m    812\u001b[0m \u001b[0;34m\u001b[0m\u001b[0m\n\u001b[1;32m    813\u001b[0m     \u001b[0;32mdef\u001b[0m \u001b[0mclose\u001b[0m\u001b[0;34m(\u001b[0m\u001b[0mself\u001b[0m\u001b[0;34m)\u001b[0m\u001b[0;34m:\u001b[0m\u001b[0;34m\u001b[0m\u001b[0;34m\u001b[0m\u001b[0m\n",
      "\u001b[0;32m/depot/eapsdept/apps/eaps227-2021/lib/python3.7/site-packages/pandas/io/parsers/readers.py\u001b[0m in \u001b[0;36m_make_engine\u001b[0;34m(self, engine)\u001b[0m\n\u001b[1;32m   1038\u001b[0m             )\n\u001b[1;32m   1039\u001b[0m         \u001b[0;31m# error: Too many arguments for \"ParserBase\"\u001b[0m\u001b[0;34m\u001b[0m\u001b[0;34m\u001b[0m\u001b[0;34m\u001b[0m\u001b[0m\n\u001b[0;32m-> 1040\u001b[0;31m         \u001b[0;32mreturn\u001b[0m \u001b[0mmapping\u001b[0m\u001b[0;34m[\u001b[0m\u001b[0mengine\u001b[0m\u001b[0;34m]\u001b[0m\u001b[0;34m(\u001b[0m\u001b[0mself\u001b[0m\u001b[0;34m.\u001b[0m\u001b[0mf\u001b[0m\u001b[0;34m,\u001b[0m \u001b[0;34m**\u001b[0m\u001b[0mself\u001b[0m\u001b[0;34m.\u001b[0m\u001b[0moptions\u001b[0m\u001b[0;34m)\u001b[0m  \u001b[0;31m# type: ignore[call-arg]\u001b[0m\u001b[0;34m\u001b[0m\u001b[0;34m\u001b[0m\u001b[0m\n\u001b[0m\u001b[1;32m   1041\u001b[0m \u001b[0;34m\u001b[0m\u001b[0m\n\u001b[1;32m   1042\u001b[0m     \u001b[0;32mdef\u001b[0m \u001b[0m_failover_to_python\u001b[0m\u001b[0;34m(\u001b[0m\u001b[0mself\u001b[0m\u001b[0;34m)\u001b[0m\u001b[0;34m:\u001b[0m\u001b[0;34m\u001b[0m\u001b[0;34m\u001b[0m\u001b[0m\n",
      "\u001b[0;32m/depot/eapsdept/apps/eaps227-2021/lib/python3.7/site-packages/pandas/io/parsers/python_parser.py\u001b[0m in \u001b[0;36m__init__\u001b[0;34m(self, f, **kwds)\u001b[0m\n\u001b[1;32m     93\u001b[0m             \u001b[0mself\u001b[0m\u001b[0;34m.\u001b[0m\u001b[0mdata\u001b[0m \u001b[0;34m=\u001b[0m \u001b[0mcast\u001b[0m\u001b[0;34m(\u001b[0m\u001b[0mIterator\u001b[0m\u001b[0;34m[\u001b[0m\u001b[0mstr\u001b[0m\u001b[0;34m]\u001b[0m\u001b[0;34m,\u001b[0m \u001b[0mf\u001b[0m\u001b[0;34m)\u001b[0m\u001b[0;34m\u001b[0m\u001b[0;34m\u001b[0m\u001b[0m\n\u001b[1;32m     94\u001b[0m         \u001b[0;32melse\u001b[0m\u001b[0;34m:\u001b[0m\u001b[0;34m\u001b[0m\u001b[0;34m\u001b[0m\u001b[0m\n\u001b[0;32m---> 95\u001b[0;31m             \u001b[0mself\u001b[0m\u001b[0;34m.\u001b[0m\u001b[0m_open_handles\u001b[0m\u001b[0;34m(\u001b[0m\u001b[0mf\u001b[0m\u001b[0;34m,\u001b[0m \u001b[0mkwds\u001b[0m\u001b[0;34m)\u001b[0m\u001b[0;34m\u001b[0m\u001b[0;34m\u001b[0m\u001b[0m\n\u001b[0m\u001b[1;32m     96\u001b[0m             \u001b[0;32massert\u001b[0m \u001b[0mself\u001b[0m\u001b[0;34m.\u001b[0m\u001b[0mhandles\u001b[0m \u001b[0;32mis\u001b[0m \u001b[0;32mnot\u001b[0m \u001b[0;32mNone\u001b[0m\u001b[0;34m\u001b[0m\u001b[0;34m\u001b[0m\u001b[0m\n\u001b[1;32m     97\u001b[0m             \u001b[0;32massert\u001b[0m \u001b[0mhasattr\u001b[0m\u001b[0;34m(\u001b[0m\u001b[0mself\u001b[0m\u001b[0;34m.\u001b[0m\u001b[0mhandles\u001b[0m\u001b[0;34m.\u001b[0m\u001b[0mhandle\u001b[0m\u001b[0;34m,\u001b[0m \u001b[0;34m\"readline\"\u001b[0m\u001b[0;34m)\u001b[0m\u001b[0;34m\u001b[0m\u001b[0;34m\u001b[0m\u001b[0m\n",
      "\u001b[0;32m/depot/eapsdept/apps/eaps227-2021/lib/python3.7/site-packages/pandas/io/parsers/base_parser.py\u001b[0m in \u001b[0;36m_open_handles\u001b[0;34m(self, src, kwds)\u001b[0m\n\u001b[1;32m    227\u001b[0m             \u001b[0mmemory_map\u001b[0m\u001b[0;34m=\u001b[0m\u001b[0mkwds\u001b[0m\u001b[0;34m.\u001b[0m\u001b[0mget\u001b[0m\u001b[0;34m(\u001b[0m\u001b[0;34m\"memory_map\"\u001b[0m\u001b[0;34m,\u001b[0m \u001b[0;32mFalse\u001b[0m\u001b[0;34m)\u001b[0m\u001b[0;34m,\u001b[0m\u001b[0;34m\u001b[0m\u001b[0;34m\u001b[0m\u001b[0m\n\u001b[1;32m    228\u001b[0m             \u001b[0mstorage_options\u001b[0m\u001b[0;34m=\u001b[0m\u001b[0mkwds\u001b[0m\u001b[0;34m.\u001b[0m\u001b[0mget\u001b[0m\u001b[0;34m(\u001b[0m\u001b[0;34m\"storage_options\"\u001b[0m\u001b[0;34m,\u001b[0m \u001b[0;32mNone\u001b[0m\u001b[0;34m)\u001b[0m\u001b[0;34m,\u001b[0m\u001b[0;34m\u001b[0m\u001b[0;34m\u001b[0m\u001b[0m\n\u001b[0;32m--> 229\u001b[0;31m             \u001b[0merrors\u001b[0m\u001b[0;34m=\u001b[0m\u001b[0mkwds\u001b[0m\u001b[0;34m.\u001b[0m\u001b[0mget\u001b[0m\u001b[0;34m(\u001b[0m\u001b[0;34m\"encoding_errors\"\u001b[0m\u001b[0;34m,\u001b[0m \u001b[0;34m\"strict\"\u001b[0m\u001b[0;34m)\u001b[0m\u001b[0;34m,\u001b[0m\u001b[0;34m\u001b[0m\u001b[0;34m\u001b[0m\u001b[0m\n\u001b[0m\u001b[1;32m    230\u001b[0m         )\n\u001b[1;32m    231\u001b[0m \u001b[0;34m\u001b[0m\u001b[0m\n",
      "\u001b[0;32m/depot/eapsdept/apps/eaps227-2021/lib/python3.7/site-packages/pandas/io/common.py\u001b[0m in \u001b[0;36mget_handle\u001b[0;34m(path_or_buf, mode, encoding, compression, memory_map, is_text, errors, storage_options)\u001b[0m\n\u001b[1;32m    704\u001b[0m                 \u001b[0mencoding\u001b[0m\u001b[0;34m=\u001b[0m\u001b[0mioargs\u001b[0m\u001b[0;34m.\u001b[0m\u001b[0mencoding\u001b[0m\u001b[0;34m,\u001b[0m\u001b[0;34m\u001b[0m\u001b[0;34m\u001b[0m\u001b[0m\n\u001b[1;32m    705\u001b[0m                 \u001b[0merrors\u001b[0m\u001b[0;34m=\u001b[0m\u001b[0merrors\u001b[0m\u001b[0;34m,\u001b[0m\u001b[0;34m\u001b[0m\u001b[0;34m\u001b[0m\u001b[0m\n\u001b[0;32m--> 706\u001b[0;31m                 \u001b[0mnewline\u001b[0m\u001b[0;34m=\u001b[0m\u001b[0;34m\"\"\u001b[0m\u001b[0;34m,\u001b[0m\u001b[0;34m\u001b[0m\u001b[0;34m\u001b[0m\u001b[0m\n\u001b[0m\u001b[1;32m    707\u001b[0m             )\n\u001b[1;32m    708\u001b[0m         \u001b[0;32melse\u001b[0m\u001b[0;34m:\u001b[0m\u001b[0;34m\u001b[0m\u001b[0;34m\u001b[0m\u001b[0m\n",
      "\u001b[0;31mFileNotFoundError\u001b[0m: [Errno 2] No such file or directory: '2021-10-11_1239.sharppy_mod.txt'"
     ]
    }
   ],
   "source": [
    "sounding = pd.read_csv('2021-10-11_1239.sharppy_mod.txt', skiprows = [0, 1, 2, 3, 4, 5], \n",
    "                       names = [\"Pressure\", \"Height\", \"Temperature\", \"Dewpoint\", \"Wind Direction\", \"Wind Speed\"],\n",
    "                      skipfooter = 1, engine = 'python')\n",
    "sounding  # Print out the contents of the variable 'sounding' to the screen"
   ]
  },
  {
   "cell_type": "markdown",
   "metadata": {},
   "source": [
    "## Next we need to massage the data to attach units, as MetPy requires."
   ]
  },
  {
   "cell_type": "code",
   "execution_count": null,
   "metadata": {
    "collapsed": true
   },
   "outputs": [],
   "source": [
    "p = sounding['Pressure'].values * units('hectopascal')\n",
    "z = sounding['Height'].values * units('meters')\n",
    "t = sounding['Temperature'].values * units('degC')\n",
    "d = sounding['Dewpoint'].values * units('degC')"
   ]
  },
  {
   "cell_type": "markdown",
   "metadata": {},
   "source": [
    "# Now let's create the skew-T chart. \n",
    "Matplotlib requires that we create a figure and axes to draw this on. Thanks to the import statement way back up at the top, 'SkewT' is a class of object in our Python namespace. We create an instance called 'skew', then invoke several of its methods to create a familiar-looking skew-T chart."
   ]
  },
  {
   "cell_type": "code",
   "execution_count": null,
   "metadata": {
    "collapsed": true
   },
   "outputs": [],
   "source": [
    "fig = plt.figure(figsize = (10, 10)) # Create a 10 inch-by-10 inch figure object.\n",
    "add_metpy_logo(fig, 115, 100) # Acknowledge the nice MetPy team who made this package.\n",
    "skew = SkewT(fig, rotation=45)\n",
    "\n",
    "# Add the relevant special lines\n",
    "skew.plot_dry_adiabats() # Light red\n",
    "skew.plot_moist_adiabats() # Light blue\n",
    "skew.plot_mixing_lines() # Light green\n",
    "# Plot a zero degree isotherm\n",
    "skew.ax.axvline(0, color='cyan', linestyle='--', linewidth=1.5)\n",
    "\n",
    "### PLOT THE SOUNDING ###\n",
    "skew.plot(p, t, 'darkred')\n",
    "skew.plot(p, d, 'darkblue')\n",
    "### END SOUNDING PLOTTING ###\n",
    "\n",
    "plt.title('Purdue Sounding, 11 October 2021 1745 UTC')\n",
    "plt.xlabel('Temperature (deg C)')\n",
    "plt.ylabel('Pressure (hPa)')\n",
    "plt.savefig('skew1.png')\n",
    "plt.show()"
   ]
  },
  {
   "cell_type": "markdown",
   "metadata": {},
   "source": [
    "# Now here's a skew-T, log p diagram we could put in a journal article. \n",
    "It's clean and informative. However, let's ask MetPy to do more. Specifically, it can calculate a parcel trajectory for us.\n",
    "\n",
    "# Calculate the parcel profile.\n",
    "This is just a series of temperatures in degrees Celsius."
   ]
  },
  {
   "cell_type": "code",
   "execution_count": null,
   "metadata": {
    "collapsed": true
   },
   "outputs": [],
   "source": [
    "parcel_prof = mpcalc.parcel_profile(p, t[0], d[0]).to('degC')\n",
    "parcel_prof # Print out the contents of the variable 'parcel_prof' to the screen"
   ]
  },
  {
   "cell_type": "markdown",
   "metadata": {},
   "source": [
    "## MetPy can also estimate LCL, LFC, EL, CAPE, and CIN based upon this parcel profile."
   ]
  },
  {
   "cell_type": "code",
   "execution_count": null,
   "metadata": {
    "collapsed": true
   },
   "outputs": [],
   "source": [
    "cape, cin = mpcalc.cape_cin(p, t, d, parcel_prof)\n",
    "lcl = mpcalc.lcl(p[0], t[0], d[0]) # This is LCL based on the surface parcel.\n",
    "lfc = mpcalc.lfc(p, t, d, parcel_prof, which = 'most_cape')\n",
    "el = mpcalc.el(p, t, d, parcel_prof, which = 'most_cape')\n",
    "\n",
    "print('CAPE = ', cape)\n",
    "print('CIN = ', cin)\n",
    "print('LCL = ', lcl)\n",
    "print('LFC = ', lfc)\n",
    "print('EL', el)"
   ]
  },
  {
   "cell_type": "markdown",
   "metadata": {},
   "source": [
    "The LCL, LFC, and EL are formatted strangely because print() doesn't quite know how to handle quantities with units attached. However, we can easily understand them. \n",
    "\n",
    "# Let's redraw the skew-T, log p diagram, now with the parcel profile and these thermodynamic quantities added. \n",
    "We'll also shade regions of CAPE and CIN to boot."
   ]
  },
  {
   "cell_type": "code",
   "execution_count": null,
   "metadata": {
    "collapsed": true
   },
   "outputs": [],
   "source": [
    "fig = plt.figure(figsize = (10, 10)) # Create a 10 inch-by-10 inch figure object.\n",
    "add_metpy_logo(fig, 115, 100)\n",
    "skew = SkewT(fig, rotation=45)\n",
    "\n",
    "# Add the relevant special lines\n",
    "skew.plot_dry_adiabats() # Light red\n",
    "skew.plot_moist_adiabats() # Light blue\n",
    "skew.plot_mixing_lines() # Light green\n",
    "# Plot a zero degree isotherm\n",
    "skew.ax.axvline(0, color='cyan', linestyle='--', linewidth=1.5)\n",
    "\n",
    "# Plot the data using normal plotting functions, in this case using\n",
    "# log scaling in Y, as dictated by the typical meteorological plot.\n",
    "skew.plot(p, t, 'darkred')\n",
    "skew.plot(p, d, 'darkblue')\n",
    "### NEW STUFF ###\n",
    "# Plot parcel profile\n",
    "skew.plot(p, parcel_prof, 'black')\n",
    "# Shade areas of CAPE and CIN\n",
    "skew.shade_cin(p, t, parcel_prof, d) # Light blue shading\n",
    "skew.shade_cape(p, t, parcel_prof) # Light red shading\n",
    "### END OF NEW STUFF ###\n",
    "\n",
    "plt.title('Purdue Sounding, 11 October 2021 1745 UTC')\n",
    "plt.xlabel('Temperature (deg C)')\n",
    "plt.ylabel('Pressure (hPa)')\n",
    "plt.savefig('skew2.png')\n",
    "plt.show()"
   ]
  },
  {
   "cell_type": "markdown",
   "metadata": {},
   "source": [
    "# Let's move on to the hodograph.\n",
    "## First, we have to convert the wind data from speed and direction to u- and v-components."
   ]
  },
  {
   "cell_type": "code",
   "execution_count": null,
   "metadata": {
    "collapsed": true
   },
   "outputs": [],
   "source": [
    "wd = sounding['Wind Direction'].values * units('degrees')\n",
    "ws = sounding['Wind Speed'].values * units('knots')\n",
    "\n",
    "u, v = mpcalc.wind_components(ws, wd)\n",
    "plt.plot(u, v)\n",
    "# Create a basic plot just to ensure that the values look sane.\n",
    "plt.show()"
   ]
  },
  {
   "cell_type": "markdown",
   "metadata": {},
   "source": [
    "## To create a proper hodograph, let's instantiate an instance of the Hodograph class."
   ]
  },
  {
   "cell_type": "code",
   "execution_count": null,
   "metadata": {
    "collapsed": true
   },
   "outputs": [],
   "source": [
    "fig = plt.figure()\n",
    "hodo = Hodograph(component_range=80.)\n",
    "hodo.add_grid(increment=20)\n",
    "hodo.plot(u, v)   # Plain hodograph\n",
    "plt.xlabel('East-west wind (kts)')\n",
    "plt.ylabel('North-south wind (kts)')\n",
    "plt.title('Purdue Hodograph, 11 October 2021 1745 UTC')\n",
    "plt.savefig('hodo1.png')\n",
    "plt.show()"
   ]
  },
  {
   "cell_type": "markdown",
   "metadata": {},
   "source": [
    "## While this hodograph is complete, it's impossible to tell which point on the hodograph corresponds to a particular height. \n",
    "\n",
    "## We can color-code them by height, like so:"
   ]
  },
  {
   "cell_type": "code",
   "execution_count": null,
   "metadata": {
    "collapsed": true
   },
   "outputs": [],
   "source": [
    "fig = plt.figure()\n",
    "hodo = Hodograph(component_range=80.)\n",
    "hodo.add_grid(increment=20)\n",
    "hodo.plot_colormapped(u, v, z)  # Plot a line colored by altitude\n",
    "plt.xlabel('East-west wind (kts)')\n",
    "plt.ylabel('North-south wind (kts)')\n",
    "plt.title('Purdue Hodograph, 11 October 2021 1745 UTC')\n",
    "plt.savefig('hodo2.png')\n",
    "plt.show()"
   ]
  },
  {
   "cell_type": "markdown",
   "metadata": {},
   "source": [
    "## If we want the hodograph to be a little less squiggly, we can tell MetPy to plot only every *n*th point. \n",
    "In this case, I'm only plotting every 25th point, or roughly every 400 m."
   ]
  },
  {
   "cell_type": "code",
   "execution_count": null,
   "metadata": {
    "collapsed": true
   },
   "outputs": [],
   "source": [
    "fig = plt.figure()\n",
    "hodo = Hodograph(component_range=80.)\n",
    "hodo.add_grid(increment=20)\n",
    "hodo.plot_colormapped(u[::25], v[::25], z[::25])  # Plot a line colored by altitude\n",
    "plt.xlabel('East-west wind (kts)')\n",
    "plt.ylabel('North-south wind (kts)')\n",
    "plt.title('Purdue Hodograph, 11 October 2021 1745 UTC')\n",
    "plt.savefig('hodo3.png')\n",
    "plt.show()"
   ]
  },
  {
   "cell_type": "markdown",
   "metadata": {},
   "source": [
    "# Lastly, just for kicks, let's plot the hodograph in the corner of our skew-T, log p plot. \n",
    "There's a lot of wasted space near the top of our skew-T because our sounding ends at about 200 mb. We can plot the hodograph as an inset."
   ]
  },
  {
   "cell_type": "code",
   "execution_count": null,
   "metadata": {
    "collapsed": true
   },
   "outputs": [],
   "source": [
    "fig = plt.figure(figsize = (10, 10)) # Create a 10 inch-by-10 inch figure object.\n",
    "add_metpy_logo(fig, 115, 100)\n",
    "skew = SkewT(fig, rotation=45)\n",
    "\n",
    "# Add the relevant special lines\n",
    "skew.plot_dry_adiabats() # Light red\n",
    "skew.plot_moist_adiabats() # Light blue\n",
    "skew.plot_mixing_lines() # Light green\n",
    "# Plot a zero degree isotherm\n",
    "skew.ax.axvline(0, color='cyan', linestyle='--', linewidth=1.5)\n",
    "\n",
    "# Plot the data using normal plotting functions, in this case using\n",
    "# log scaling in Y, as dictated by the typical meteorological plot.\n",
    "skew.plot(p, t, 'darkred')\n",
    "skew.plot(p, d, 'darkblue')\n",
    "# Plot parcel profile\n",
    "skew.plot(p, parcel_prof, 'black')\n",
    "# Shade areas of CAPE and CIN\n",
    "skew.shade_cin(p, t, parcel_prof, d) # Light blue shading\n",
    "skew.shade_cape(p, t, parcel_prof) # Light red shading\n",
    "\n",
    "plt.title('Purdue Sounding, 11 October 2021 1745 UTC')\n",
    "plt.xlabel('Temperature (deg C)')\n",
    "plt.ylabel('Pressure (hPa)')\n",
    "\n",
    "### HODOGRAPH INSET ###\n",
    "# Create an inset axes object that is 30% width and height of the\n",
    "# figure and put it in the upper right hand corner.\n",
    "ax_hod = inset_axes(skew.ax, '30%', '30%', loc=1)\n",
    "hodo = Hodograph(ax_hod, component_range=80.)\n",
    "hodo.add_grid(increment=20)\n",
    "hodo.plot_colormapped(u, v, z)  # Plot a line colored by height\n",
    "plt.xlabel('u (kts)')  # I've shortened these labels because the inset is small.\n",
    "plt.ylabel('v (kts)') \n",
    "### END OF HODOGRAPH INSET ###\n",
    "\n",
    "plt.savefig('skew3.png')\n",
    "plt.show()"
   ]
  },
  {
   "cell_type": "markdown",
   "metadata": {},
   "source": [
    "# Such a graphic should, of course, be accompanied by a descriptive caption explaining what *all* the curves mean. e.g.,\n",
    "**Fig. 1.** Skew-T, log p diagram of a radiosounding taken at West Lafayette, Indiana at 1745 UTC on 11 October 2021, including temperature (deg C; dark red solid line), dew point (deg C; dark blue solid line), and surface parcel trajectory (deg C; black solid line). The region shaded pink (blue) corresponds to CAPE (CIN). Dashed red, blue, and green lines correspond to dry adiabats, moist adiabats, and water vapor mixing ratio lines, respectively. Inset: Hodograph from the same sounding (in kts), color shading (indigo to yellow) corresponds to increasing height (0.2 km MSL to 12.6 km MSL). Dashed gray rings are drawn every 20 kts."
   ]
  }
 ],
 "metadata": {
  "kernelspec": {
   "display_name": "Python (My eaps227-2021 Kernel)",
   "language": "python",
   "name": "eaps227-2021"
  },
  "language_info": {
   "codemirror_mode": {
    "name": "ipython",
    "version": 3
   },
   "file_extension": ".py",
   "mimetype": "text/x-python",
   "name": "python",
   "nbconvert_exporter": "python",
   "pygments_lexer": "ipython3",
   "version": "3.7.6"
  }
 },
 "nbformat": 4,
 "nbformat_minor": 2
}
