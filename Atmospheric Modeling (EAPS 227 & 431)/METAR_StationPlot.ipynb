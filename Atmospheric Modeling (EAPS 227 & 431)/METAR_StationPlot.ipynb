{
 "cells": [
  {
   "cell_type": "markdown",
   "metadata": {},
   "source": [
    "# Making METARS into station plots\n",
    "\n",
    "![MetPy logo](https://unidata.github.io/MetPy/latest/_static/metpy_horizontal.png \"MetPy\")\n",
    "\n",
    "This exercise introduces you to <a href = \"https://www.unidata.ucar.edu/software/metpy/\">MetPy</a>. MetPy is a Python package composed of modules for doing different meteorological calculations and generating publication-quality plots. MetPy is maintained by the University Corporation for Atmospheric Research (the same place that makes the MetEd modules), and accepts contribution of code from users. You can read more about MetPy at the above link, or peruse examples of nice plots you can make with MetPy <a href = \"https://unidata.github.io/python-training/gallery/gallery-home/\">here</a>.\n",
    "\n",
    "MetPy is readily addable to most Python 3 distribution with a few dependencies. I've already included MetPy in this kernel for you, so you don't have to monkey with installation. (You're welcome!)\n",
    "\n",
    "# <span style=\"color:red\">Text in red indicates something you need to do on your own.</span>\n",
    "\n",
    "### As with many Python packages, MetPy is composed of modules for reading in data performing calculations, and creating derived products (like images and files). \n",
    "Doubtless you will encounter MetPy in your future courses. Best to make friends with it!\n",
    "\n",
    "Let's use a function in the \"io\" module called parse_metar_to_dataframe. (In computer science parlance, \"I/O\" stands for \"input/output\".) It takes a raw METAR and breaks it up into a Pandas DataFrame object.\n",
    "\n",
    "## First, let's parse a single METAR into a dataframe.\n",
    "In this case, it's a string copied straight from the FAA ASOS web site:\n",
    "# KLAF 201154Z 13006KT 2 1/2SM +RA BR FEW015 BKN029 OVC039 21/20 A2998 RMK AO2 SLP148 P0005 60016 70016 T02060200 10222 20206 56008 $\n",
    "\n",
    "We can see there is heavy rain at KLAF, temperature is 21 deg C, the dew point is 20 deg C, overcast skies at 39,000 feet, and sea level pressure of 1014.8 mb. Let's take a moment to sketch out how this station plot will look on the board.\n",
    "\n",
    "Now that that's done, let's import some needed modules and functions."
   ]
  },
  {
   "cell_type": "code",
   "execution_count": 7,
   "metadata": {
    "collapsed": true
   },
   "outputs": [],
   "source": [
    "from metpy.io import parse_metar_to_dataframe\n",
    "from metpy.plots import add_metpy_logo, current_weather, sky_cover, StationPlot\n",
    "import matplotlib.pyplot as plt\n",
    "%matplotlib inline"
   ]
  },
  {
   "cell_type": "markdown",
   "metadata": {},
   "source": [
    "### In the call to parse_metar_to_dataframe, I added two arguments: <b>year</b> and <b>month</b>. \n",
    "Recall that METARs don't include year and month in their default format. If you omit these arguments, MetPy assumes that the METAR is from the current year and month. If this isn't true, you need to override these values by explictly specifying them in the call to parse_metar_to_dataframe()."
   ]
  },
  {
   "cell_type": "code",
   "execution_count": 8,
   "metadata": {},
   "outputs": [
    {
     "name": "stderr",
     "output_type": "stream",
     "text": [
      "Downloading file 'sfstns.tbl' from 'https://github.com/Unidata/MetPy/raw/v1.1.0/staticdata/sfstns.tbl' to '/home/kelshark/.cache/metpy/v1.1.0'.\n",
      "Downloading file 'master.txt' from 'https://github.com/Unidata/MetPy/raw/v1.1.0/staticdata/master.txt' to '/home/kelshark/.cache/metpy/v1.1.0'.\n",
      "Downloading file 'stations.txt' from 'https://github.com/Unidata/MetPy/raw/v1.1.0/staticdata/stations.txt' to '/home/kelshark/.cache/metpy/v1.1.0'.\n",
      "Downloading file 'airport-codes.csv' from 'https://github.com/Unidata/MetPy/raw/v1.1.0/staticdata/airport-codes.csv' to '/home/kelshark/.cache/metpy/v1.1.0'.\n"
     ]
    },
    {
     "data": {
      "text/html": [
       "<div>\n",
       "<style scoped>\n",
       "    .dataframe tbody tr th:only-of-type {\n",
       "        vertical-align: middle;\n",
       "    }\n",
       "\n",
       "    .dataframe tbody tr th {\n",
       "        vertical-align: top;\n",
       "    }\n",
       "\n",
       "    .dataframe thead th {\n",
       "        text-align: right;\n",
       "    }\n",
       "</style>\n",
       "<table border=\"1\" class=\"dataframe\">\n",
       "  <thead>\n",
       "    <tr style=\"text-align: right;\">\n",
       "      <th></th>\n",
       "      <th>station_id</th>\n",
       "      <th>latitude</th>\n",
       "      <th>longitude</th>\n",
       "      <th>elevation</th>\n",
       "      <th>date_time</th>\n",
       "      <th>wind_direction</th>\n",
       "      <th>wind_speed</th>\n",
       "      <th>visibility</th>\n",
       "      <th>current_wx1</th>\n",
       "      <th>current_wx2</th>\n",
       "      <th>...</th>\n",
       "      <th>air_temperature</th>\n",
       "      <th>dew_point_temperature</th>\n",
       "      <th>altimeter</th>\n",
       "      <th>current_wx1_symbol</th>\n",
       "      <th>current_wx2_symbol</th>\n",
       "      <th>current_wx3_symbol</th>\n",
       "      <th>remarks</th>\n",
       "      <th>air_pressure_at_sea_level</th>\n",
       "      <th>eastward_wind</th>\n",
       "      <th>northward_wind</th>\n",
       "    </tr>\n",
       "    <tr>\n",
       "      <th>station_id</th>\n",
       "      <th></th>\n",
       "      <th></th>\n",
       "      <th></th>\n",
       "      <th></th>\n",
       "      <th></th>\n",
       "      <th></th>\n",
       "      <th></th>\n",
       "      <th></th>\n",
       "      <th></th>\n",
       "      <th></th>\n",
       "      <th></th>\n",
       "      <th></th>\n",
       "      <th></th>\n",
       "      <th></th>\n",
       "      <th></th>\n",
       "      <th></th>\n",
       "      <th></th>\n",
       "      <th></th>\n",
       "      <th></th>\n",
       "      <th></th>\n",
       "      <th></th>\n",
       "    </tr>\n",
       "  </thead>\n",
       "  <tbody>\n",
       "    <tr>\n",
       "      <th>KLAF</th>\n",
       "      <td>KLAF</td>\n",
       "      <td>40.42</td>\n",
       "      <td>-86.93</td>\n",
       "      <td>182</td>\n",
       "      <td>2021-09-20 11:54:00</td>\n",
       "      <td>130</td>\n",
       "      <td>6.0</td>\n",
       "      <td>4023.36</td>\n",
       "      <td>+RA</td>\n",
       "      <td>BR</td>\n",
       "      <td>...</td>\n",
       "      <td>21.0</td>\n",
       "      <td>20.0</td>\n",
       "      <td>29.98</td>\n",
       "      <td>65</td>\n",
       "      <td>10</td>\n",
       "      <td>0</td>\n",
       "      <td>AO2 SLP148 P0005 60016 70016 T02060200 10222 2...</td>\n",
       "      <td>1015.05</td>\n",
       "      <td>-4.596267</td>\n",
       "      <td>3.856726</td>\n",
       "    </tr>\n",
       "  </tbody>\n",
       "</table>\n",
       "<p>1 rows × 30 columns</p>\n",
       "</div>"
      ],
      "text/plain": [
       "           station_id  latitude  longitude  elevation           date_time  \\\n",
       "station_id                                                                  \n",
       "KLAF             KLAF     40.42     -86.93        182 2021-09-20 11:54:00   \n",
       "\n",
       "            wind_direction  wind_speed  visibility current_wx1 current_wx2  \\\n",
       "station_id                                                                   \n",
       "KLAF                   130         6.0     4023.36         +RA          BR   \n",
       "\n",
       "            ...  air_temperature dew_point_temperature  altimeter  \\\n",
       "station_id  ...                                                     \n",
       "KLAF        ...             21.0                  20.0      29.98   \n",
       "\n",
       "           current_wx1_symbol  current_wx2_symbol current_wx3_symbol  \\\n",
       "station_id                                                             \n",
       "KLAF                       65                  10                  0   \n",
       "\n",
       "                                                      remarks  \\\n",
       "station_id                                                      \n",
       "KLAF        AO2 SLP148 P0005 60016 70016 T02060200 10222 2...   \n",
       "\n",
       "            air_pressure_at_sea_level  eastward_wind  northward_wind  \n",
       "station_id                                                            \n",
       "KLAF                          1015.05      -4.596267        3.856726  \n",
       "\n",
       "[1 rows x 30 columns]"
      ]
     },
     "execution_count": 8,
     "metadata": {},
     "output_type": "execute_result"
    }
   ],
   "source": [
    "# Because raw METARs can be quite long, let's store one to a string variable.\n",
    "myMETAR = \"KLAF 201154Z 13006KT 2 1/2SM +RA BR FEW015 BKN029 OVC039 21/20 A2998 RMK AO2 SLP148 P0005 60016 70016 T02060200 10222 20206 56008 $\"\n",
    "data = parse_metar_to_dataframe(myMETAR, year = 2021, month = 9)\n",
    "data # Print out the contents of the DataFrame"
   ]
  },
  {
   "cell_type": "markdown",
   "metadata": {},
   "source": [
    "## Note that the DataFrame contains more information than the actual METAR. \n",
    "For example, where did the latitude, longitude, and elevation of the station come from? That's not in the METAR! MetPy has a lookup table containing a reasonably current list of ASOS sites around the world, and their corresponding coordinates. \n",
    "\n",
    "Additionally, MetPy has considerately calculated the u- and v-components of the wind for you. Scroll all the way to the right to see eastward_wind (u) and northward_wind (v) fields."
   ]
  },
  {
   "cell_type": "markdown",
   "metadata": {},
   "source": [
    "## For my next trick, I'll turn this METAR into a surface station plot.\n",
    "I'll create a function definition in Python that takes the DataFrame object \"data\" and draws the station plot on a blank canvas.\n",
    "\n",
    "A function definition is useful if you have a bunch of commands that you execute together, over and over, that take the same argument(s).\n",
    "\n",
    "Note: Some of this code is sourced from https://unidata.github.io/MetPy/latest/examples/plots/Station_Plot.html"
   ]
  },
  {
   "cell_type": "code",
   "execution_count": 9,
   "metadata": {
    "collapsed": true
   },
   "outputs": [],
   "source": [
    "def draw_station_plot(data):\n",
    "    \"\"\"\n",
    "    Draws a station plot from a Dataframe.\n",
    "    \n",
    "    Inputs:\n",
    "    \n",
    "        data: An Pandas Dataframe produced from metpy.io.parse_metar_into_dataframe().\n",
    "        \n",
    "    Outputs:\n",
    "    \n",
    "        A station plot floating on a small canvas.\n",
    "    \n",
    "    \"\"\"\n",
    "    # First, I have to create a figure and axis for the station plot to be drawn on.\n",
    "    fig = plt.figure(figsize=(3, 3)) # make a 3-inch by 3-inch canvas\n",
    "    ax = fig.add_subplot(1, 1, 1) # Make an axis called \"ax\" on the figure canvas\n",
    "\n",
    "    # The following creates an instance of a StationPlot class at coordinates (0,0) on the canvas. \n",
    "    \n",
    "    # Note: The actual station plot is not drawn until we use a couple of additional commands, below this one.\n",
    "    # You can comment out each block to see what each one does.\n",
    "    stationplot = StationPlot(ax, 0, 0, fontsize = 24)\n",
    "    \n",
    "    # Plot the temperature and dew point to the upper and lower left, respectively, of\n",
    "    # the center point. Each one uses a different color.\n",
    "    stationplot.plot_parameter('NW', data['air_temperature'].values, color='darkblue')\n",
    "    stationplot.plot_parameter('SW', data['dew_point_temperature'].values, \n",
    "                               color='darkgreen')\n",
    "    # A more complex example uses a custom formatter to control how the sea-level pressure\n",
    "    # values are plotted. This uses the standard trailing 3-digits of the pressure value\n",
    "    # in tenths of millibars.\n",
    "    stationplot.plot_parameter('NE', data['air_pressure_at_sea_level'].values,\n",
    "                               formatter=lambda v: format(10 * v, '.0f')[-3:])\n",
    "    \n",
    "    # Plot the cloud cover symbols in the center location. This uses the codes made above and\n",
    "    # uses the `sky_cover` mapper to convert these values to font codes for the\n",
    "    # weather symbol font.\n",
    "    stationplot.plot_symbol('C', data['cloud_coverage'].values, sky_cover)\n",
    "    # Same this time, but plot current weather to the left of center, using the\n",
    "    # `current_weather` mapper to convert symbols to the right glyphs.\n",
    "    stationplot.plot_symbol('W', data['current_wx1_symbol'].values, current_weather)\n",
    "    \n",
    "    # Add wind barbs\n",
    "    stationplot.plot_barb(data['eastward_wind'].values, data['northward_wind'].values)\n",
    "    \n",
    "    # Also plot the actual text of the station id. Instead of cardinal directions,\n",
    "    # plot further out by specifying a location of 2 increments in x and 0 in y.\n",
    "    stationplot.plot_text((2, 0), data['station_id'].values)\n",
    "    \n",
    "    # These last lines remove the axes and ticks.\n",
    "    #ax.spines['top'].set_visible(False)\n",
    "    #ax.spines['right'].set_visible(False)\n",
    "    #ax.spines['bottom'].set_visible(False)\n",
    "    #ax.spines['left'].set_visible(False)\n",
    "    ax.get_xaxis().set_ticks([])\n",
    "    ax.get_yaxis().set_ticks([])"
   ]
  },
  {
   "cell_type": "markdown",
   "metadata": {},
   "source": [
    "Nothing happens when you execute the block above; it's just defining the function draw_station_plot(). Now, we can actually use it:"
   ]
  },
  {
   "cell_type": "code",
   "execution_count": 10,
   "metadata": {},
   "outputs": [
    {
     "data": {
      "image/png": "[encoded data removed]",
      "text/plain": [
       "<Figure size 216x216 with 1 Axes>"
      ]
     },
     "metadata": {},
     "output_type": "display_data"
    }
   ],
   "source": [
    "draw_station_plot(data)"
   ]
  },
  {
   "cell_type": "markdown",
   "metadata": {
    "collapsed": true
   },
   "source": [
    "## Wait a minute. The METAR said the sea level pressure is 148 mb. Why did it show up as 150 mb on the station plot?\n",
    "Great question! Remember that SLP isn't always included in METARs, but altimeter setting is. Under the hood, MetPy does a quick conversion of the altimeter setting to a sea level pressure. It might be off by a few mb as a result."
   ]
  },
  {
   "cell_type": "markdown",
   "metadata": {},
   "source": [
    "# Your turn!\n",
    "## <span style=\"color:red\">1. Find a METAR from somewhere, historical or current.</span>\n",
    "Suggestions: \n",
    "1. Hit up the <a href = \"https://www.faa.gov/air_traffic/weather/asos\">FAA ASOS site</a> and find an ASOS that's reporting something moderately interesting. \n",
    "2. Iowa State has a database of <a href = \"https://mesonet.agron.iastate.edu/ASOS/recent.phtml\">recent interesting METARs</a> (e.g., tornado reports).\n",
    "3. You can also search the web for METARs associated with historical weather events from the 1970s onward.\n",
    "\n",
    "### <span style=\"color:red\">Once you've found your METAR, copy and paste it in between the quotation marks below.</span>"
   ]
  },
  {
   "cell_type": "code",
   "execution_count": null,
   "metadata": {
    "collapsed": true
   },
   "outputs": [],
   "source": [
    "myMETAR2 = \"\" # Paste your METAR in between the quotation marks!\n",
    "\n",
    "# Note: If your METAR is historical, you will need to change the year and month!\n",
    "data2 = parse_metar_to_dataframe(myMETAR2, year = 2021, month = 9)\n",
    "data2 # Print out the contents of the DataFrame"
   ]
  },
  {
   "cell_type": "markdown",
   "metadata": {},
   "source": [
    "# <span style=\"color:red\">2. Draw the station plot by hand.</span>\n",
    "As a reminder, here is the <a href= \"https://www.wpc.ncep.noaa.gov/html/stationplot.shtml\">NWS tutorial</a> on how to decode station plots. Here's another <a href = \"https://www.aviationweather.gov/metar/symbol\">similar chart</a>.\n",
    "\n",
    "If, by chance, your weather symbol isn't included on the sites above, there is a frighteningly complete list of them on pages 274--279 of <a href = \"https://www.eoas.ubc.ca/books/Practical_Meteorology/prmet102/Ch09-wxmaps-v102b.pdf\">Ch. 9</a> of Practical Meteorology by Roland Stull.\n",
    "\n",
    "# <span style=\"color:red\">3. Copy-and-paste your METAR and post your hand-drawn artwork on Slack.</span>\n",
    "\n",
    "# <span style=\"color:red\">4. Then, and only then, ask MetPy to draw it for you!</span>\n",
    "Execute the code block below."
   ]
  },
  {
   "cell_type": "code",
   "execution_count": null,
   "metadata": {
    "collapsed": true
   },
   "outputs": [],
   "source": [
    "draw_station_plot(data2)"
   ]
  },
  {
   "cell_type": "markdown",
   "metadata": {},
   "source": [
    "# <span style=\"color:red\">5. Add your MetPy station plot to your Slack post as a comment.</span>\n",
    "Do they match?\n",
    "Remember you can access our class slack through any browser via https://eaps227-2021.slack.com"
   ]
  },
  {
   "cell_type": "markdown",
   "metadata": {},
   "source": [
    "# Moving on to maps...\n",
    "All of the above was for plotting a single station. \n",
    "## What if we want to create several station plots on a map?\n",
    "\n",
    "Note: Much of this portion of the notebook is based on the MetPy Monday video at this link:\n",
    "https://youtu.be/Fa0tGT2PbIw\n",
    "\n",
    "The <a href = \"https://www.youtube.com/playlist?list=PLQut5OXpV-0ir4IdllSt1iEZKTwFBa7kO\">MetPy Monday series</a> is fun. They have numerous tutorials on how to make custom and professional-looking meteorological plots and charts. I recommend subscribing!\n",
    "\n",
    "We need to hook up to an online catalog that contains a current catalog of METARs. We'll use a MetPy-associated Python tool called siphon to do this."
   ]
  },
  {
   "cell_type": "code",
   "execution_count": null,
   "metadata": {
    "collapsed": true
   },
   "outputs": [],
   "source": [
    "from siphon.catalog import TDSCatalog\n",
    "cat = TDSCatalog(\"http://thredds-test.unidata.ucar.edu/thredds/catalog/noaaport/text/metar/\")"
   ]
  },
  {
   "cell_type": "markdown",
   "metadata": {},
   "source": [
    "### The siphon - catalog setup points your notebook to an online repository of METARs.\n",
    "To see the current contents, click here: https://thredds-test.unidata.ucar.edu/thredds/catalog/noaaport/text/metar/catalog.html\n",
    "\n",
    "Let's point to one particular METAR text file:"
   ]
  },
  {
   "cell_type": "code",
   "execution_count": null,
   "metadata": {
    "collapsed": true
   },
   "outputs": [],
   "source": [
    "ds = cat.datasets[-18]  # The number in front of the minus sign means \"XX hours ago\"\n",
    "# Note that I decrement by a few hours, just to make sure the METAR text file is reasonably complete\n",
    "ds # Print the name of the file to be downloaded"
   ]
  },
  {
   "cell_type": "code",
   "execution_count": null,
   "metadata": {
    "collapsed": true
   },
   "outputs": [],
   "source": [
    "ds.download()  # This actually downloads the specified text file"
   ]
  },
  {
   "cell_type": "markdown",
   "metadata": {},
   "source": [
    "If you look in the directory in which this notebook is located, you'll see the file has appeared. Have a look at the contents.\n",
    "\n",
    "## To actually see the contents of the data file, we need to import a different function from metpy.io called parse_metar_file().\n",
    "This splits up a ginormous text file like this into a DataFrame."
   ]
  },
  {
   "cell_type": "code",
   "execution_count": null,
   "metadata": {
    "collapsed": true
   },
   "outputs": [],
   "source": [
    "from metpy.io import parse_metar_file\n",
    "\n",
    "df = parse_metar_file(ds)\n",
    "df  # Print out the contents of the DataFrame to the screen"
   ]
  },
  {
   "cell_type": "markdown",
   "metadata": {},
   "source": [
    "## Note the  number of rows (thousands). There are way too many METARs to plot at once!\n",
    "## We need to dump some rows that don't contain the information we need to make station plots.\n",
    "For example, if a row is missing air temperature, dew point, sea level pressure, then the station plotting function will crash.\n",
    "\n",
    "## We use a built-in DataFrame function called \"dropna\" (which means \"drop if not a number\").\n",
    "We drop any rows missing critical data. \n",
    "\n",
    "Note that we reassign the DataFrame object with dropped rows back to the variable df."
   ]
  },
  {
   "cell_type": "code",
   "execution_count": null,
   "metadata": {
    "collapsed": true
   },
   "outputs": [],
   "source": [
    "df = df.dropna(subset = ['air_temperature', 'dew_point_temperature', \n",
    "                         'air_pressure_at_sea_level', 'cloud_coverage',\n",
    "                         'current_wx1_symbol'], how = 'any')\n",
    "df "
   ]
  },
  {
   "cell_type": "markdown",
   "metadata": {},
   "source": [
    "### The number of rows decreased by a few hundred. \n",
    "This confirms that rows missing information needed to make the station plots have been dropped."
   ]
  },
  {
   "cell_type": "markdown",
   "metadata": {},
   "source": [
    "## Next, we need to set up a map projection on which to plot the station plots. \n",
    "To do this, we'll use another package called <a href = \"https://scitools.org.uk/cartopy/docs/latest/\">CartoPy</a>. \n",
    "\n",
    "![CartoPy logo](https://scitools.org.uk/cartopy/docs/latest/_static/cartopy.png \"CartoPy\")\n",
    "\n",
    "It can produce a wide variety of map projections. We'll use one called Lambert Conformal, which is pretty good for most purposes. "
   ]
  },
  {
   "cell_type": "code",
   "execution_count": null,
   "metadata": {
    "collapsed": true
   },
   "outputs": [],
   "source": [
    "import cartopy.crs as ccrs\n",
    "#import cartopy.feature as cfeature\n",
    "\n",
    "# Set up the map projection\n",
    "proj = ccrs.LambertConformal(central_longitude=-95, central_latitude=35,\n",
    "                             standard_parallels=[35])\n",
    "\n",
    "# Use the Cartopy map projection to transform station locations to the map and\n",
    "# then refine the number of stations plotted by setting a 300km radius\n",
    "point_locs = proj.transform_points(ccrs.PlateCarree(), df['longitude'].values,\n",
    "                                   df['latitude'].values)\n",
    "\n",
    "# This DataFrame has way too many stations to plot all of them. \n",
    "# The number of stations plotted will be reduced using reduce_point_density.\n",
    "from metpy.calc import reduce_point_density\n",
    "from metpy.units import units\n",
    "df = df[reduce_point_density(point_locs, 300. * units.km)]\n",
    "df"
   ]
  },
  {
   "cell_type": "markdown",
   "metadata": {},
   "source": [
    "# Actual map plotting:\n",
    "This code has to be executed as one gigantic block.\n",
    "## <span style=\"color:red\">Please read through this block and make sure you understand what it is doing before executing.</span>"
   ]
  },
  {
   "cell_type": "code",
   "execution_count": null,
   "metadata": {
    "collapsed": true
   },
   "outputs": [],
   "source": [
    "# Change the DPI of the resulting figure. Higher DPI drastically improves the\n",
    "# look of the text rendering.\n",
    "plt.rcParams['savefig.dpi'] = 255\n",
    "\n",
    "# Create the figure and an axes set to the projection.\n",
    "fig = plt.figure(figsize=(20, 10))\n",
    "add_metpy_logo(fig, 1100, 300, size='large')\n",
    "ax = fig.add_subplot(1, 1, 1, projection=proj)\n",
    "\n",
    "# Set plot bounds (latitude and longitude)\n",
    "ax.set_extent([-118, -73, 23, 50], crs=ccrs.PlateCarree())\n",
    "\n",
    "# Add some various map elements to the plot to make it recognizable.\n",
    "# Note: These features require \"fetching\" from an external site.\n",
    "# Commands may fail if you don't have write permissions.\n",
    "#ax.add_feature(cfeature.LAND)\n",
    "#ax.add_feature(cfeature.OCEAN)\n",
    "#ax.add_feature(cfeature.LAKES)\n",
    "#ax.add_feature(cfeature.COASTLINE)\n",
    "#ax.add_feature(cfeature.STATES)\n",
    "#ax.add_feature(cfeature.BORDERS)\n",
    "# Trust me, these look really nice when they work.\n",
    "\n",
    "# Because the downloadable shapefiles are not working, \n",
    "# let's use a static one I've already installed on Scholar for you.\n",
    "from cartopy.io.shapereader import BasicReader\n",
    "countries = BasicReader('/depot/eapsdept/apps/eaps227-2021/gis/ne_110m_admin_0_countries.shp')\n",
    "states = BasicReader('/depot/eapsdept/apps/eaps227-2021/gis/ne_110m_admin_1_states_provinces_lines.shp')\n",
    "\n",
    "ax.add_geometries(countries.geometries(), ccrs.PlateCarree(), facecolor = 'none', edgecolor = 'black', lw = 2)\n",
    "ax.add_geometries(states.geometries(), ccrs.PlateCarree(), facecolor = 'none', edgecolor = 'gray')\n",
    "\n",
    "# Start the station plot by specifying the axes to draw on, as well as the\n",
    "# lon/lat of the stations (with transform). We also change the fontsize to 12 pt.\n",
    "stationplot = StationPlot(ax, df['longitude'].values, df['latitude'].values,\n",
    "                          clip_on=True, transform=ccrs.PlateCarree(), fontsize=12)\n",
    "\n",
    "# Plot the temperature and dew point to the upper and lower left, respectively, of\n",
    "# the center point. Each one uses a different color.\n",
    "stationplot.plot_parameter('NW', df['air_temperature'].values, color='darkblue')\n",
    "stationplot.plot_parameter('SW', df['dew_point_temperature'].values,\n",
    "                           color='darkgreen')\n",
    "\n",
    "# A more complex example uses a custom formatter to control how the sea-level pressure\n",
    "# values are plotted. This uses the standard trailing 3-digits of the pressure value\n",
    "# in tenths of millibars.\n",
    "stationplot.plot_parameter('NE', df['air_pressure_at_sea_level'].values,\n",
    "                           formatter=lambda v: format(10 * v, '.0f')[-3:])\n",
    "\n",
    "# Plot the cloud cover symbols in the center location. This uses the codes made above and\n",
    "# uses the `sky_cover` mapper to convert these values to font codes for the\n",
    "# weather symbol font.\n",
    "stationplot.plot_symbol('C', df['cloud_coverage'].values, sky_cover)\n",
    "\n",
    "# Same this time, but plot current weather to the left of center, using the\n",
    "# `current_weather` mapper to convert symbols to the right glyphs.\n",
    "stationplot.plot_symbol('W', df['current_wx1_symbol'].values, current_weather)\n",
    "\n",
    "# Add wind barbs\n",
    "stationplot.plot_barb(df['eastward_wind'].values, df['northward_wind'].values)\n",
    "\n",
    "# Also plot the actual text of the station id. Instead of cardinal directions,\n",
    "# plot further out by specifying a location of 2 increments in x and 0 in y.\n",
    "stationplot.plot_text((2, 0), df['station_id'].values)\n",
    "\n",
    "plt.title(df['date_time'][0])\n",
    "\n",
    "\n",
    "plt.show()"
   ]
  },
  {
   "cell_type": "markdown",
   "metadata": {},
   "source": [
    "## <span style=\"color:red\">Try playing around with some of the parameters in the block above. For example, try changing the latitude/longitude limits, or colors of some of the elements.</span>"
   ]
  }
 ],
 "metadata": {
  "kernelspec": {
   "display_name": "Python (My eaps227-2021 Kernel)",
   "language": "python",
   "name": "eaps227-2021"
  },
  "language_info": {
   "codemirror_mode": {
    "name": "ipython",
    "version": 3
   },
   "file_extension": ".py",
   "mimetype": "text/x-python",
   "name": "python",
   "nbconvert_exporter": "python",
   "pygments_lexer": "ipython3",
   "version": "3.7.6"
  }
 },
 "nbformat": 4,
 "nbformat_minor": 2
}
